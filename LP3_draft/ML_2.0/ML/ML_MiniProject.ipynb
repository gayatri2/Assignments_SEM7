{
 "cells": [
  {
   "cell_type": "markdown",
   "id": "75b190bd",
   "metadata": {},
   "source": [
    "## 41128 Gayatri Godbole\n",
    "## 41134 Pushkar Jain"
   ]
  },
  {
   "cell_type": "code",
   "execution_count": 3,
   "id": "73499c3d",
   "metadata": {
    "execution": {
     "iopub.execute_input": "2022-11-02T06:54:04.364925Z",
     "iopub.status.busy": "2022-11-02T06:54:04.363963Z",
     "iopub.status.idle": "2022-11-02T06:54:06.018227Z",
     "shell.execute_reply": "2022-11-02T06:54:06.017257Z"
    },
    "papermill": {
     "duration": 1.679284,
     "end_time": "2022-11-02T06:54:06.021077",
     "exception": false,
     "start_time": "2022-11-02T06:54:04.341793",
     "status": "completed"
    },
    "tags": []
   },
   "outputs": [],
   "source": [
    "import numpy as np\n",
    "import pandas as pd\n",
    "import matplotlib.pyplot as plt\n",
    "import seaborn as sns\n",
    "from sklearn.preprocessing import LabelEncoder\n",
    "from sklearn.preprocessing import OrdinalEncoder\n",
    "from sklearn.utils import resample\n",
    "%matplotlib inline"
   ]
  },
  {
   "cell_type": "markdown",
   "id": "38b76f3f",
   "metadata": {
    "papermill": {
     "duration": 0.017508,
     "end_time": "2022-11-02T06:54:06.101129",
     "exception": false,
     "start_time": "2022-11-02T06:54:06.083621",
     "status": "completed"
    },
    "tags": []
   },
   "source": [
    "# EDA"
   ]
  },
  {
   "cell_type": "code",
   "execution_count": 4,
   "id": "3646c519",
   "metadata": {
    "execution": {
     "iopub.execute_input": "2022-11-02T06:54:06.138709Z",
     "iopub.status.busy": "2022-11-02T06:54:06.137427Z",
     "iopub.status.idle": "2022-11-02T06:54:06.175141Z",
     "shell.execute_reply": "2022-11-02T06:54:06.173804Z"
    },
    "papermill": {
     "duration": 0.060053,
     "end_time": "2022-11-02T06:54:06.177928",
     "exception": false,
     "start_time": "2022-11-02T06:54:06.117875",
     "status": "completed"
    },
    "tags": []
   },
   "outputs": [],
   "source": [
    "training_data = pd.read_csv('train.csv', index_col='PassengerId')"
   ]
  },
  {
   "cell_type": "code",
   "execution_count": 5,
   "id": "8f8015e9",
   "metadata": {
    "execution": {
     "iopub.execute_input": "2022-11-02T06:54:06.215783Z",
     "iopub.status.busy": "2022-11-02T06:54:06.214167Z",
     "iopub.status.idle": "2022-11-02T06:54:06.269899Z",
     "shell.execute_reply": "2022-11-02T06:54:06.266994Z"
    },
    "papermill": {
     "duration": 0.078743,
     "end_time": "2022-11-02T06:54:06.274568",
     "exception": false,
     "start_time": "2022-11-02T06:54:06.195825",
     "status": "completed"
    },
    "tags": []
   },
   "outputs": [
    {
     "data": {
      "text/html": [
       "<div>\n",
       "<style scoped>\n",
       "    .dataframe tbody tr th:only-of-type {\n",
       "        vertical-align: middle;\n",
       "    }\n",
       "\n",
       "    .dataframe tbody tr th {\n",
       "        vertical-align: top;\n",
       "    }\n",
       "\n",
       "    .dataframe thead th {\n",
       "        text-align: right;\n",
       "    }\n",
       "</style>\n",
       "<table border=\"1\" class=\"dataframe\">\n",
       "  <thead>\n",
       "    <tr style=\"text-align: right;\">\n",
       "      <th></th>\n",
       "      <th>Survived</th>\n",
       "      <th>Pclass</th>\n",
       "      <th>Age</th>\n",
       "      <th>SibSp</th>\n",
       "      <th>Parch</th>\n",
       "      <th>Fare</th>\n",
       "    </tr>\n",
       "  </thead>\n",
       "  <tbody>\n",
       "    <tr>\n",
       "      <th>count</th>\n",
       "      <td>891.000000</td>\n",
       "      <td>891.000000</td>\n",
       "      <td>714.000000</td>\n",
       "      <td>891.000000</td>\n",
       "      <td>891.000000</td>\n",
       "      <td>891.000000</td>\n",
       "    </tr>\n",
       "    <tr>\n",
       "      <th>mean</th>\n",
       "      <td>0.383838</td>\n",
       "      <td>2.308642</td>\n",
       "      <td>29.699118</td>\n",
       "      <td>0.523008</td>\n",
       "      <td>0.381594</td>\n",
       "      <td>32.204208</td>\n",
       "    </tr>\n",
       "    <tr>\n",
       "      <th>std</th>\n",
       "      <td>0.486592</td>\n",
       "      <td>0.836071</td>\n",
       "      <td>14.526497</td>\n",
       "      <td>1.102743</td>\n",
       "      <td>0.806057</td>\n",
       "      <td>49.693429</td>\n",
       "    </tr>\n",
       "    <tr>\n",
       "      <th>min</th>\n",
       "      <td>0.000000</td>\n",
       "      <td>1.000000</td>\n",
       "      <td>0.420000</td>\n",
       "      <td>0.000000</td>\n",
       "      <td>0.000000</td>\n",
       "      <td>0.000000</td>\n",
       "    </tr>\n",
       "    <tr>\n",
       "      <th>25%</th>\n",
       "      <td>0.000000</td>\n",
       "      <td>2.000000</td>\n",
       "      <td>20.125000</td>\n",
       "      <td>0.000000</td>\n",
       "      <td>0.000000</td>\n",
       "      <td>7.910400</td>\n",
       "    </tr>\n",
       "    <tr>\n",
       "      <th>50%</th>\n",
       "      <td>0.000000</td>\n",
       "      <td>3.000000</td>\n",
       "      <td>28.000000</td>\n",
       "      <td>0.000000</td>\n",
       "      <td>0.000000</td>\n",
       "      <td>14.454200</td>\n",
       "    </tr>\n",
       "    <tr>\n",
       "      <th>75%</th>\n",
       "      <td>1.000000</td>\n",
       "      <td>3.000000</td>\n",
       "      <td>38.000000</td>\n",
       "      <td>1.000000</td>\n",
       "      <td>0.000000</td>\n",
       "      <td>31.000000</td>\n",
       "    </tr>\n",
       "    <tr>\n",
       "      <th>max</th>\n",
       "      <td>1.000000</td>\n",
       "      <td>3.000000</td>\n",
       "      <td>80.000000</td>\n",
       "      <td>8.000000</td>\n",
       "      <td>6.000000</td>\n",
       "      <td>512.329200</td>\n",
       "    </tr>\n",
       "  </tbody>\n",
       "</table>\n",
       "</div>"
      ],
      "text/plain": [
       "         Survived      Pclass         Age       SibSp       Parch        Fare\n",
       "count  891.000000  891.000000  714.000000  891.000000  891.000000  891.000000\n",
       "mean     0.383838    2.308642   29.699118    0.523008    0.381594   32.204208\n",
       "std      0.486592    0.836071   14.526497    1.102743    0.806057   49.693429\n",
       "min      0.000000    1.000000    0.420000    0.000000    0.000000    0.000000\n",
       "25%      0.000000    2.000000   20.125000    0.000000    0.000000    7.910400\n",
       "50%      0.000000    3.000000   28.000000    0.000000    0.000000   14.454200\n",
       "75%      1.000000    3.000000   38.000000    1.000000    0.000000   31.000000\n",
       "max      1.000000    3.000000   80.000000    8.000000    6.000000  512.329200"
      ]
     },
     "execution_count": 5,
     "metadata": {},
     "output_type": "execute_result"
    }
   ],
   "source": [
    "training_data.describe()"
   ]
  },
  {
   "cell_type": "code",
   "execution_count": 6,
   "id": "b785d1ed",
   "metadata": {
    "execution": {
     "iopub.execute_input": "2022-11-02T06:54:06.317228Z",
     "iopub.status.busy": "2022-11-02T06:54:06.316753Z",
     "iopub.status.idle": "2022-11-02T06:54:06.338550Z",
     "shell.execute_reply": "2022-11-02T06:54:06.334911Z"
    },
    "papermill": {
     "duration": 0.048203,
     "end_time": "2022-11-02T06:54:06.342673",
     "exception": false,
     "start_time": "2022-11-02T06:54:06.294470",
     "status": "completed"
    },
    "tags": []
   },
   "outputs": [
    {
     "data": {
      "text/html": [
       "<div>\n",
       "<style scoped>\n",
       "    .dataframe tbody tr th:only-of-type {\n",
       "        vertical-align: middle;\n",
       "    }\n",
       "\n",
       "    .dataframe tbody tr th {\n",
       "        vertical-align: top;\n",
       "    }\n",
       "\n",
       "    .dataframe thead th {\n",
       "        text-align: right;\n",
       "    }\n",
       "</style>\n",
       "<table border=\"1\" class=\"dataframe\">\n",
       "  <thead>\n",
       "    <tr style=\"text-align: right;\">\n",
       "      <th></th>\n",
       "      <th>Survived</th>\n",
       "      <th>Pclass</th>\n",
       "      <th>Name</th>\n",
       "      <th>Sex</th>\n",
       "      <th>Age</th>\n",
       "      <th>SibSp</th>\n",
       "      <th>Parch</th>\n",
       "      <th>Ticket</th>\n",
       "      <th>Fare</th>\n",
       "      <th>Cabin</th>\n",
       "      <th>Embarked</th>\n",
       "    </tr>\n",
       "    <tr>\n",
       "      <th>PassengerId</th>\n",
       "      <th></th>\n",
       "      <th></th>\n",
       "      <th></th>\n",
       "      <th></th>\n",
       "      <th></th>\n",
       "      <th></th>\n",
       "      <th></th>\n",
       "      <th></th>\n",
       "      <th></th>\n",
       "      <th></th>\n",
       "      <th></th>\n",
       "    </tr>\n",
       "  </thead>\n",
       "  <tbody>\n",
       "    <tr>\n",
       "      <th>1</th>\n",
       "      <td>0</td>\n",
       "      <td>3</td>\n",
       "      <td>Braund, Mr. Owen Harris</td>\n",
       "      <td>male</td>\n",
       "      <td>22.0</td>\n",
       "      <td>1</td>\n",
       "      <td>0</td>\n",
       "      <td>A/5 21171</td>\n",
       "      <td>7.2500</td>\n",
       "      <td>NaN</td>\n",
       "      <td>S</td>\n",
       "    </tr>\n",
       "    <tr>\n",
       "      <th>2</th>\n",
       "      <td>1</td>\n",
       "      <td>1</td>\n",
       "      <td>Cumings, Mrs. John Bradley (Florence Briggs Th...</td>\n",
       "      <td>female</td>\n",
       "      <td>38.0</td>\n",
       "      <td>1</td>\n",
       "      <td>0</td>\n",
       "      <td>PC 17599</td>\n",
       "      <td>71.2833</td>\n",
       "      <td>C85</td>\n",
       "      <td>C</td>\n",
       "    </tr>\n",
       "    <tr>\n",
       "      <th>3</th>\n",
       "      <td>1</td>\n",
       "      <td>3</td>\n",
       "      <td>Heikkinen, Miss. Laina</td>\n",
       "      <td>female</td>\n",
       "      <td>26.0</td>\n",
       "      <td>0</td>\n",
       "      <td>0</td>\n",
       "      <td>STON/O2. 3101282</td>\n",
       "      <td>7.9250</td>\n",
       "      <td>NaN</td>\n",
       "      <td>S</td>\n",
       "    </tr>\n",
       "    <tr>\n",
       "      <th>4</th>\n",
       "      <td>1</td>\n",
       "      <td>1</td>\n",
       "      <td>Futrelle, Mrs. Jacques Heath (Lily May Peel)</td>\n",
       "      <td>female</td>\n",
       "      <td>35.0</td>\n",
       "      <td>1</td>\n",
       "      <td>0</td>\n",
       "      <td>113803</td>\n",
       "      <td>53.1000</td>\n",
       "      <td>C123</td>\n",
       "      <td>S</td>\n",
       "    </tr>\n",
       "    <tr>\n",
       "      <th>5</th>\n",
       "      <td>0</td>\n",
       "      <td>3</td>\n",
       "      <td>Allen, Mr. William Henry</td>\n",
       "      <td>male</td>\n",
       "      <td>35.0</td>\n",
       "      <td>0</td>\n",
       "      <td>0</td>\n",
       "      <td>373450</td>\n",
       "      <td>8.0500</td>\n",
       "      <td>NaN</td>\n",
       "      <td>S</td>\n",
       "    </tr>\n",
       "  </tbody>\n",
       "</table>\n",
       "</div>"
      ],
      "text/plain": [
       "             Survived  Pclass  \\\n",
       "PassengerId                     \n",
       "1                   0       3   \n",
       "2                   1       1   \n",
       "3                   1       3   \n",
       "4                   1       1   \n",
       "5                   0       3   \n",
       "\n",
       "                                                          Name     Sex   Age  \\\n",
       "PassengerId                                                                    \n",
       "1                                      Braund, Mr. Owen Harris    male  22.0   \n",
       "2            Cumings, Mrs. John Bradley (Florence Briggs Th...  female  38.0   \n",
       "3                                       Heikkinen, Miss. Laina  female  26.0   \n",
       "4                 Futrelle, Mrs. Jacques Heath (Lily May Peel)  female  35.0   \n",
       "5                                     Allen, Mr. William Henry    male  35.0   \n",
       "\n",
       "             SibSp  Parch            Ticket     Fare Cabin Embarked  \n",
       "PassengerId                                                          \n",
       "1                1      0         A/5 21171   7.2500   NaN        S  \n",
       "2                1      0          PC 17599  71.2833   C85        C  \n",
       "3                0      0  STON/O2. 3101282   7.9250   NaN        S  \n",
       "4                1      0            113803  53.1000  C123        S  \n",
       "5                0      0            373450   8.0500   NaN        S  "
      ]
     },
     "execution_count": 6,
     "metadata": {},
     "output_type": "execute_result"
    }
   ],
   "source": [
    "training_data.head()"
   ]
  },
  {
   "cell_type": "code",
   "execution_count": 7,
   "id": "5f04870a",
   "metadata": {
    "execution": {
     "iopub.execute_input": "2022-11-02T06:54:06.386772Z",
     "iopub.status.busy": "2022-11-02T06:54:06.384759Z",
     "iopub.status.idle": "2022-11-02T06:54:06.407209Z",
     "shell.execute_reply": "2022-11-02T06:54:06.404625Z"
    },
    "papermill": {
     "duration": 0.048254,
     "end_time": "2022-11-02T06:54:06.410818",
     "exception": false,
     "start_time": "2022-11-02T06:54:06.362564",
     "status": "completed"
    },
    "tags": []
   },
   "outputs": [
    {
     "data": {
      "text/html": [
       "<div>\n",
       "<style scoped>\n",
       "    .dataframe tbody tr th:only-of-type {\n",
       "        vertical-align: middle;\n",
       "    }\n",
       "\n",
       "    .dataframe tbody tr th {\n",
       "        vertical-align: top;\n",
       "    }\n",
       "\n",
       "    .dataframe thead th {\n",
       "        text-align: right;\n",
       "    }\n",
       "</style>\n",
       "<table border=\"1\" class=\"dataframe\">\n",
       "  <thead>\n",
       "    <tr style=\"text-align: right;\">\n",
       "      <th></th>\n",
       "      <th>Survived</th>\n",
       "      <th>Pclass</th>\n",
       "      <th>Name</th>\n",
       "      <th>Sex</th>\n",
       "      <th>Age</th>\n",
       "      <th>SibSp</th>\n",
       "      <th>Parch</th>\n",
       "      <th>Ticket</th>\n",
       "      <th>Fare</th>\n",
       "      <th>Cabin</th>\n",
       "      <th>Embarked</th>\n",
       "    </tr>\n",
       "    <tr>\n",
       "      <th>PassengerId</th>\n",
       "      <th></th>\n",
       "      <th></th>\n",
       "      <th></th>\n",
       "      <th></th>\n",
       "      <th></th>\n",
       "      <th></th>\n",
       "      <th></th>\n",
       "      <th></th>\n",
       "      <th></th>\n",
       "      <th></th>\n",
       "      <th></th>\n",
       "    </tr>\n",
       "  </thead>\n",
       "  <tbody>\n",
       "    <tr>\n",
       "      <th>887</th>\n",
       "      <td>0</td>\n",
       "      <td>2</td>\n",
       "      <td>Montvila, Rev. Juozas</td>\n",
       "      <td>male</td>\n",
       "      <td>27.0</td>\n",
       "      <td>0</td>\n",
       "      <td>0</td>\n",
       "      <td>211536</td>\n",
       "      <td>13.00</td>\n",
       "      <td>NaN</td>\n",
       "      <td>S</td>\n",
       "    </tr>\n",
       "    <tr>\n",
       "      <th>888</th>\n",
       "      <td>1</td>\n",
       "      <td>1</td>\n",
       "      <td>Graham, Miss. Margaret Edith</td>\n",
       "      <td>female</td>\n",
       "      <td>19.0</td>\n",
       "      <td>0</td>\n",
       "      <td>0</td>\n",
       "      <td>112053</td>\n",
       "      <td>30.00</td>\n",
       "      <td>B42</td>\n",
       "      <td>S</td>\n",
       "    </tr>\n",
       "    <tr>\n",
       "      <th>889</th>\n",
       "      <td>0</td>\n",
       "      <td>3</td>\n",
       "      <td>Johnston, Miss. Catherine Helen \"Carrie\"</td>\n",
       "      <td>female</td>\n",
       "      <td>NaN</td>\n",
       "      <td>1</td>\n",
       "      <td>2</td>\n",
       "      <td>W./C. 6607</td>\n",
       "      <td>23.45</td>\n",
       "      <td>NaN</td>\n",
       "      <td>S</td>\n",
       "    </tr>\n",
       "    <tr>\n",
       "      <th>890</th>\n",
       "      <td>1</td>\n",
       "      <td>1</td>\n",
       "      <td>Behr, Mr. Karl Howell</td>\n",
       "      <td>male</td>\n",
       "      <td>26.0</td>\n",
       "      <td>0</td>\n",
       "      <td>0</td>\n",
       "      <td>111369</td>\n",
       "      <td>30.00</td>\n",
       "      <td>C148</td>\n",
       "      <td>C</td>\n",
       "    </tr>\n",
       "    <tr>\n",
       "      <th>891</th>\n",
       "      <td>0</td>\n",
       "      <td>3</td>\n",
       "      <td>Dooley, Mr. Patrick</td>\n",
       "      <td>male</td>\n",
       "      <td>32.0</td>\n",
       "      <td>0</td>\n",
       "      <td>0</td>\n",
       "      <td>370376</td>\n",
       "      <td>7.75</td>\n",
       "      <td>NaN</td>\n",
       "      <td>Q</td>\n",
       "    </tr>\n",
       "  </tbody>\n",
       "</table>\n",
       "</div>"
      ],
      "text/plain": [
       "             Survived  Pclass                                      Name  \\\n",
       "PassengerId                                                               \n",
       "887                 0       2                     Montvila, Rev. Juozas   \n",
       "888                 1       1              Graham, Miss. Margaret Edith   \n",
       "889                 0       3  Johnston, Miss. Catherine Helen \"Carrie\"   \n",
       "890                 1       1                     Behr, Mr. Karl Howell   \n",
       "891                 0       3                       Dooley, Mr. Patrick   \n",
       "\n",
       "                Sex   Age  SibSp  Parch      Ticket   Fare Cabin Embarked  \n",
       "PassengerId                                                                \n",
       "887            male  27.0      0      0      211536  13.00   NaN        S  \n",
       "888          female  19.0      0      0      112053  30.00   B42        S  \n",
       "889          female   NaN      1      2  W./C. 6607  23.45   NaN        S  \n",
       "890            male  26.0      0      0      111369  30.00  C148        C  \n",
       "891            male  32.0      0      0      370376   7.75   NaN        Q  "
      ]
     },
     "execution_count": 7,
     "metadata": {},
     "output_type": "execute_result"
    }
   ],
   "source": [
    "training_data.tail()"
   ]
  },
  {
   "cell_type": "code",
   "execution_count": 8,
   "id": "54bc70c4",
   "metadata": {
    "execution": {
     "iopub.execute_input": "2022-11-02T06:54:06.451428Z",
     "iopub.status.busy": "2022-11-02T06:54:06.450962Z",
     "iopub.status.idle": "2022-11-02T06:54:06.461360Z",
     "shell.execute_reply": "2022-11-02T06:54:06.459704Z"
    },
    "papermill": {
     "duration": 0.035503,
     "end_time": "2022-11-02T06:54:06.465421",
     "exception": false,
     "start_time": "2022-11-02T06:54:06.429918",
     "status": "completed"
    },
    "tags": []
   },
   "outputs": [
    {
     "data": {
      "text/plain": [
       "Survived      int64\n",
       "Pclass        int64\n",
       "Name         object\n",
       "Sex          object\n",
       "Age         float64\n",
       "SibSp         int64\n",
       "Parch         int64\n",
       "Ticket       object\n",
       "Fare        float64\n",
       "Cabin        object\n",
       "Embarked     object\n",
       "dtype: object"
      ]
     },
     "execution_count": 8,
     "metadata": {},
     "output_type": "execute_result"
    }
   ],
   "source": [
    "training_data.dtypes"
   ]
  },
  {
   "cell_type": "code",
   "execution_count": 9,
   "id": "070722fb",
   "metadata": {
    "execution": {
     "iopub.execute_input": "2022-11-02T06:54:06.501772Z",
     "iopub.status.busy": "2022-11-02T06:54:06.501430Z",
     "iopub.status.idle": "2022-11-02T06:54:06.513311Z",
     "shell.execute_reply": "2022-11-02T06:54:06.511250Z"
    },
    "papermill": {
     "duration": 0.032861,
     "end_time": "2022-11-02T06:54:06.516003",
     "exception": false,
     "start_time": "2022-11-02T06:54:06.483142",
     "status": "completed"
    },
    "scrolled": true,
    "tags": []
   },
   "outputs": [
    {
     "data": {
      "text/plain": [
       "Survived      0\n",
       "Pclass        0\n",
       "Name          0\n",
       "Sex           0\n",
       "Age         177\n",
       "SibSp         0\n",
       "Parch         0\n",
       "Ticket        0\n",
       "Fare          0\n",
       "Cabin       687\n",
       "Embarked      2\n",
       "dtype: int64"
      ]
     },
     "execution_count": 9,
     "metadata": {},
     "output_type": "execute_result"
    }
   ],
   "source": [
    "training_data.isnull().sum()"
   ]
  },
  {
   "cell_type": "markdown",
   "id": "7d42b975",
   "metadata": {
    "papermill": {
     "duration": 0.017068,
     "end_time": "2022-11-02T06:54:06.552843",
     "exception": false,
     "start_time": "2022-11-02T06:54:06.535775",
     "status": "completed"
    },
    "tags": []
   },
   "source": [
    "# First preprocessing of data"
   ]
  },
  {
   "cell_type": "markdown",
   "id": "34632b70",
   "metadata": {
    "papermill": {
     "duration": 0.019265,
     "end_time": "2022-11-02T06:54:06.589841",
     "exception": false,
     "start_time": "2022-11-02T06:54:06.570576",
     "status": "completed"
    },
    "tags": []
   },
   "source": [
    "**The following 4 operations must be applied on the test data too**\n",
    "1. Remove Cabin feature which is empty for most of the records\n",
    "2. Remove the Ticket feature (the ticket id) which doesn't sound as important\n",
    "3. Fill the empty values of the Age class with the mean value\n",
    "4. Fill the empty values of the Embarked columnn with the mode value"
   ]
  },
  {
   "cell_type": "code",
   "execution_count": 10,
   "id": "e7b41795",
   "metadata": {
    "execution": {
     "iopub.execute_input": "2022-11-02T06:54:06.627768Z",
     "iopub.status.busy": "2022-11-02T06:54:06.627325Z",
     "iopub.status.idle": "2022-11-02T06:54:06.634351Z",
     "shell.execute_reply": "2022-11-02T06:54:06.632786Z"
    },
    "papermill": {
     "duration": 0.030338,
     "end_time": "2022-11-02T06:54:06.637857",
     "exception": false,
     "start_time": "2022-11-02T06:54:06.607519",
     "status": "completed"
    },
    "tags": []
   },
   "outputs": [],
   "source": [
    "training_data.drop(['Cabin'], axis=1, inplace=True)"
   ]
  },
  {
   "cell_type": "code",
   "execution_count": 11,
   "id": "b7336454",
   "metadata": {
    "execution": {
     "iopub.execute_input": "2022-11-02T06:54:06.674807Z",
     "iopub.status.busy": "2022-11-02T06:54:06.674453Z",
     "iopub.status.idle": "2022-11-02T06:54:06.681974Z",
     "shell.execute_reply": "2022-11-02T06:54:06.680500Z"
    },
    "papermill": {
     "duration": 0.029229,
     "end_time": "2022-11-02T06:54:06.684982",
     "exception": false,
     "start_time": "2022-11-02T06:54:06.655753",
     "status": "completed"
    },
    "tags": []
   },
   "outputs": [],
   "source": [
    "training_data.drop(['Ticket'], axis=1, inplace=True)"
   ]
  },
  {
   "cell_type": "code",
   "execution_count": 12,
   "id": "d092d284",
   "metadata": {
    "execution": {
     "iopub.execute_input": "2022-11-02T06:54:06.725534Z",
     "iopub.status.busy": "2022-11-02T06:54:06.725083Z",
     "iopub.status.idle": "2022-11-02T06:54:06.734025Z",
     "shell.execute_reply": "2022-11-02T06:54:06.731473Z"
    },
    "papermill": {
     "duration": 0.03539,
     "end_time": "2022-11-02T06:54:06.738762",
     "exception": false,
     "start_time": "2022-11-02T06:54:06.703372",
     "status": "completed"
    },
    "tags": []
   },
   "outputs": [],
   "source": [
    "training_data.drop(['Name'], axis=1, inplace=True)"
   ]
  },
  {
   "cell_type": "code",
   "execution_count": 13,
   "id": "4b85cc72",
   "metadata": {
    "execution": {
     "iopub.execute_input": "2022-11-02T06:54:06.782357Z",
     "iopub.status.busy": "2022-11-02T06:54:06.781837Z",
     "iopub.status.idle": "2022-11-02T06:54:06.789610Z",
     "shell.execute_reply": "2022-11-02T06:54:06.788143Z"
    },
    "papermill": {
     "duration": 0.032591,
     "end_time": "2022-11-02T06:54:06.791788",
     "exception": false,
     "start_time": "2022-11-02T06:54:06.759197",
     "status": "completed"
    },
    "tags": []
   },
   "outputs": [],
   "source": [
    "mean_age = training_data['Age'].mean()\n",
    "training_data['Age'].fillna(mean_age, inplace=True)"
   ]
  },
  {
   "cell_type": "code",
   "execution_count": 14,
   "id": "77620200",
   "metadata": {
    "execution": {
     "iopub.execute_input": "2022-11-02T06:54:06.836608Z",
     "iopub.status.busy": "2022-11-02T06:54:06.836241Z",
     "iopub.status.idle": "2022-11-02T06:54:06.844490Z",
     "shell.execute_reply": "2022-11-02T06:54:06.843053Z"
    },
    "papermill": {
     "duration": 0.030373,
     "end_time": "2022-11-02T06:54:06.847294",
     "exception": false,
     "start_time": "2022-11-02T06:54:06.816921",
     "status": "completed"
    },
    "tags": []
   },
   "outputs": [],
   "source": [
    "embarked_mode = training_data['Embarked'].mode()\n",
    "training_data['Embarked'].fillna(embarked_mode, inplace=True)"
   ]
  },
  {
   "cell_type": "markdown",
   "id": "9a29b070",
   "metadata": {
    "papermill": {
     "duration": 0.017207,
     "end_time": "2022-11-02T06:54:06.884615",
     "exception": false,
     "start_time": "2022-11-02T06:54:06.867408",
     "status": "completed"
    },
    "tags": []
   },
   "source": [
    "# EDA - continue"
   ]
  },
  {
   "cell_type": "markdown",
   "id": "c08e0d72",
   "metadata": {
    "papermill": {
     "duration": 0.021183,
     "end_time": "2022-11-02T06:54:06.923507",
     "exception": false,
     "start_time": "2022-11-02T06:54:06.902324",
     "status": "completed"
    },
    "tags": []
   },
   "source": [
    "**Are there any outliers?**"
   ]
  },
  {
   "cell_type": "code",
   "execution_count": 15,
   "id": "cf3ed5f7",
   "metadata": {
    "execution": {
     "iopub.execute_input": "2022-11-02T06:54:06.962555Z",
     "iopub.status.busy": "2022-11-02T06:54:06.962067Z",
     "iopub.status.idle": "2022-11-02T06:54:07.856503Z",
     "shell.execute_reply": "2022-11-02T06:54:07.853206Z"
    },
    "papermill": {
     "duration": 0.927052,
     "end_time": "2022-11-02T06:54:07.869479",
     "exception": false,
     "start_time": "2022-11-02T06:54:06.942427",
     "status": "completed"
    },
    "tags": []
   },
   "outputs": [
    {
     "data": {
      "text/plain": [
       "<AxesSubplot:xlabel='Fare'>"
      ]
     },
     "execution_count": 15,
     "metadata": {},
     "output_type": "execute_result"
    },
    {
     "data": {
      "image/png": "[encoded data removed]",
      "text/plain": [
       "<Figure size 1440x720 with 6 Axes>"
      ]
     },
     "metadata": {
      "needs_background": "light"
     },
     "output_type": "display_data"
    }
   ],
   "source": [
    "outlier_figure, outlier_axes = plt.subplots(2,3,figsize=(20,10))\n",
    "sns.boxplot(ax=outlier_axes[0][0],data=training_data,x=\"Pclass\",  medianprops=dict(color=\"red\", alpha=0.7),)\n",
    "sns.boxplot(ax=outlier_axes[0][1],data=training_data,x=\"Age\",  medianprops=dict(color=\"red\", alpha=0.7),)\n",
    "\n",
    "sns.boxplot(ax=outlier_axes[0][2],data=training_data,x=\"SibSp\",  medianprops=dict(color=\"red\", alpha=0.7),)\n",
    "sns.boxplot(ax=outlier_axes[1][0],data=training_data,x=\"Parch\",  medianprops=dict(color=\"red\", alpha=0.7),)\n",
    "sns.boxplot(ax=outlier_axes[1][1],data=training_data,x=\"Fare\",  medianprops=dict(color=\"red\", alpha=0.7),)\n",
    "#sns.boxplot(ax=outlier_axes[0][1],data=training_data,x=\"Embarked\")"
   ]
  },
  {
   "cell_type": "markdown",
   "id": "e0e01884",
   "metadata": {
    "papermill": {
     "duration": 0.020177,
     "end_time": "2022-11-02T06:54:07.917165",
     "exception": false,
     "start_time": "2022-11-02T06:54:07.896988",
     "status": "completed"
    },
    "tags": []
   },
   "source": [
    "**Remove outliers**"
   ]
  },
  {
   "cell_type": "code",
   "execution_count": 16,
   "id": "42c627e3",
   "metadata": {
    "execution": {
     "iopub.execute_input": "2022-11-02T06:54:07.962361Z",
     "iopub.status.busy": "2022-11-02T06:54:07.961895Z",
     "iopub.status.idle": "2022-11-02T06:54:07.971635Z",
     "shell.execute_reply": "2022-11-02T06:54:07.970312Z"
    },
    "papermill": {
     "duration": 0.03586,
     "end_time": "2022-11-02T06:54:07.975409",
     "exception": false,
     "start_time": "2022-11-02T06:54:07.939549",
     "status": "completed"
    },
    "tags": []
   },
   "outputs": [],
   "source": [
    "def remove_outliers(feature_name, original_dataframe, result_dataframe):\n",
    "    Q1 = np.percentile(original_dataframe[feature_name], 25, interpolation = 'midpoint')\n",
    "    Q2 = np.percentile(original_dataframe[feature_name], 50, interpolation = 'midpoint')  \n",
    "    Q3 = np.percentile(original_dataframe[feature_name], 75, interpolation = 'midpoint')\n",
    "    IQR = Q3 - Q1\n",
    "    low_lim = Q1 - 1.5 * IQR\n",
    "    up_lim = Q3 + 1.5 * IQR\n",
    "    print('Low limit for ', feature_name, ' is ', low_lim)\n",
    "    print('Upper limit for ', feature_name, ' is ', up_lim)\n",
    "    print('Removing ', len(result_dataframe[result_dataframe[feature_name] < low_lim]), ' outliers for feature ', feature_name)\n",
    "    result_dataframe = result_dataframe.drop(result_dataframe[result_dataframe[feature_name] < low_lim].index)\n",
    "    result_dataframe = result_dataframe.drop(result_dataframe[result_dataframe[feature_name] > up_lim].index)\n",
    "    return result_dataframe"
   ]
  },
  {
   "cell_type": "code",
   "execution_count": 17,
   "id": "13793a9d",
   "metadata": {
    "execution": {
     "iopub.execute_input": "2022-11-02T06:54:08.015658Z",
     "iopub.status.busy": "2022-11-02T06:54:08.014904Z",
     "iopub.status.idle": "2022-11-02T06:54:08.021032Z",
     "shell.execute_reply": "2022-11-02T06:54:08.019512Z"
    },
    "papermill": {
     "duration": 0.028852,
     "end_time": "2022-11-02T06:54:08.023870",
     "exception": false,
     "start_time": "2022-11-02T06:54:07.995018",
     "status": "completed"
    },
    "tags": []
   },
   "outputs": [],
   "source": [
    "no_outliers_training = training_data.copy()"
   ]
  },
  {
   "cell_type": "code",
   "execution_count": 18,
   "id": "7a73d770",
   "metadata": {
    "execution": {
     "iopub.execute_input": "2022-11-02T06:54:08.064616Z",
     "iopub.status.busy": "2022-11-02T06:54:08.064180Z",
     "iopub.status.idle": "2022-11-02T06:54:08.086773Z",
     "shell.execute_reply": "2022-11-02T06:54:08.085581Z"
    },
    "papermill": {
     "duration": 0.045884,
     "end_time": "2022-11-02T06:54:08.088915",
     "exception": false,
     "start_time": "2022-11-02T06:54:08.043031",
     "status": "completed"
    },
    "tags": []
   },
   "outputs": [
    {
     "name": "stdout",
     "output_type": "stream",
     "text": [
      "Low limit for  Age  is  2.5\n",
      "Upper limit for  Age  is  54.5\n",
      "Removing  24  outliers for feature  Age\n",
      "Low limit for  SibSp  is  -1.5\n",
      "Upper limit for  SibSp  is  2.5\n",
      "Removing  0  outliers for feature  SibSp\n",
      "Low limit for  Parch  is  0.0\n",
      "Upper limit for  Parch  is  0.0\n",
      "Removing  0  outliers for feature  Parch\n",
      "Low limit for  Fare  is  -26.724\n",
      "Upper limit for  Fare  is  65.6344\n",
      "Removing  0  outliers for feature  Fare\n"
     ]
    },
    {
     "name": "stderr",
     "output_type": "stream",
     "text": [
      "C:\\Users\\admin\\AppData\\Local\\Temp\\ipykernel_1196\\2572292956.py:2: DeprecationWarning: the `interpolation=` argument to percentile was renamed to `method=`, which has additional options.\n",
      "Users of the modes 'nearest', 'lower', 'higher', or 'midpoint' are encouraged to review the method they. (Deprecated NumPy 1.22)\n",
      "  Q1 = np.percentile(original_dataframe[feature_name], 25, interpolation = 'midpoint')\n",
      "C:\\Users\\admin\\AppData\\Local\\Temp\\ipykernel_1196\\2572292956.py:3: DeprecationWarning: the `interpolation=` argument to percentile was renamed to `method=`, which has additional options.\n",
      "Users of the modes 'nearest', 'lower', 'higher', or 'midpoint' are encouraged to review the method they. (Deprecated NumPy 1.22)\n",
      "  Q2 = np.percentile(original_dataframe[feature_name], 50, interpolation = 'midpoint')\n",
      "C:\\Users\\admin\\AppData\\Local\\Temp\\ipykernel_1196\\2572292956.py:4: DeprecationWarning: the `interpolation=` argument to percentile was renamed to `method=`, which has additional options.\n",
      "Users of the modes 'nearest', 'lower', 'higher', or 'midpoint' are encouraged to review the method they. (Deprecated NumPy 1.22)\n",
      "  Q3 = np.percentile(original_dataframe[feature_name], 75, interpolation = 'midpoint')\n"
     ]
    }
   ],
   "source": [
    "feature_names = ['Age', 'SibSp', 'Parch', 'Fare']\n",
    "for feature_name in feature_names:\n",
    "    no_outliers_training =  remove_outliers(feature_name= feature_name, original_dataframe = training_data, result_dataframe = no_outliers_training)"
   ]
  },
  {
   "cell_type": "code",
   "execution_count": 19,
   "id": "ade6344d",
   "metadata": {
    "execution": {
     "iopub.execute_input": "2022-11-02T06:54:08.123697Z",
     "iopub.status.busy": "2022-11-02T06:54:08.122817Z",
     "iopub.status.idle": "2022-11-02T06:54:08.149811Z",
     "shell.execute_reply": "2022-11-02T06:54:08.148426Z"
    },
    "papermill": {
     "duration": 0.046596,
     "end_time": "2022-11-02T06:54:08.151946",
     "exception": false,
     "start_time": "2022-11-02T06:54:08.105350",
     "status": "completed"
    },
    "tags": []
   },
   "outputs": [
    {
     "data": {
      "text/html": [
       "<div>\n",
       "<style scoped>\n",
       "    .dataframe tbody tr th:only-of-type {\n",
       "        vertical-align: middle;\n",
       "    }\n",
       "\n",
       "    .dataframe tbody tr th {\n",
       "        vertical-align: top;\n",
       "    }\n",
       "\n",
       "    .dataframe thead th {\n",
       "        text-align: right;\n",
       "    }\n",
       "</style>\n",
       "<table border=\"1\" class=\"dataframe\">\n",
       "  <thead>\n",
       "    <tr style=\"text-align: right;\">\n",
       "      <th></th>\n",
       "      <th>Survived</th>\n",
       "      <th>Pclass</th>\n",
       "      <th>Age</th>\n",
       "      <th>SibSp</th>\n",
       "      <th>Parch</th>\n",
       "      <th>Fare</th>\n",
       "    </tr>\n",
       "  </thead>\n",
       "  <tbody>\n",
       "    <tr>\n",
       "      <th>count</th>\n",
       "      <td>891.000000</td>\n",
       "      <td>891.000000</td>\n",
       "      <td>891.000000</td>\n",
       "      <td>891.000000</td>\n",
       "      <td>891.000000</td>\n",
       "      <td>891.000000</td>\n",
       "    </tr>\n",
       "    <tr>\n",
       "      <th>mean</th>\n",
       "      <td>0.383838</td>\n",
       "      <td>2.308642</td>\n",
       "      <td>29.699118</td>\n",
       "      <td>0.523008</td>\n",
       "      <td>0.381594</td>\n",
       "      <td>32.204208</td>\n",
       "    </tr>\n",
       "    <tr>\n",
       "      <th>std</th>\n",
       "      <td>0.486592</td>\n",
       "      <td>0.836071</td>\n",
       "      <td>13.002015</td>\n",
       "      <td>1.102743</td>\n",
       "      <td>0.806057</td>\n",
       "      <td>49.693429</td>\n",
       "    </tr>\n",
       "    <tr>\n",
       "      <th>min</th>\n",
       "      <td>0.000000</td>\n",
       "      <td>1.000000</td>\n",
       "      <td>0.420000</td>\n",
       "      <td>0.000000</td>\n",
       "      <td>0.000000</td>\n",
       "      <td>0.000000</td>\n",
       "    </tr>\n",
       "    <tr>\n",
       "      <th>25%</th>\n",
       "      <td>0.000000</td>\n",
       "      <td>2.000000</td>\n",
       "      <td>22.000000</td>\n",
       "      <td>0.000000</td>\n",
       "      <td>0.000000</td>\n",
       "      <td>7.910400</td>\n",
       "    </tr>\n",
       "    <tr>\n",
       "      <th>50%</th>\n",
       "      <td>0.000000</td>\n",
       "      <td>3.000000</td>\n",
       "      <td>29.699118</td>\n",
       "      <td>0.000000</td>\n",
       "      <td>0.000000</td>\n",
       "      <td>14.454200</td>\n",
       "    </tr>\n",
       "    <tr>\n",
       "      <th>75%</th>\n",
       "      <td>1.000000</td>\n",
       "      <td>3.000000</td>\n",
       "      <td>35.000000</td>\n",
       "      <td>1.000000</td>\n",
       "      <td>0.000000</td>\n",
       "      <td>31.000000</td>\n",
       "    </tr>\n",
       "    <tr>\n",
       "      <th>max</th>\n",
       "      <td>1.000000</td>\n",
       "      <td>3.000000</td>\n",
       "      <td>80.000000</td>\n",
       "      <td>8.000000</td>\n",
       "      <td>6.000000</td>\n",
       "      <td>512.329200</td>\n",
       "    </tr>\n",
       "  </tbody>\n",
       "</table>\n",
       "</div>"
      ],
      "text/plain": [
       "         Survived      Pclass         Age       SibSp       Parch        Fare\n",
       "count  891.000000  891.000000  891.000000  891.000000  891.000000  891.000000\n",
       "mean     0.383838    2.308642   29.699118    0.523008    0.381594   32.204208\n",
       "std      0.486592    0.836071   13.002015    1.102743    0.806057   49.693429\n",
       "min      0.000000    1.000000    0.420000    0.000000    0.000000    0.000000\n",
       "25%      0.000000    2.000000   22.000000    0.000000    0.000000    7.910400\n",
       "50%      0.000000    3.000000   29.699118    0.000000    0.000000   14.454200\n",
       "75%      1.000000    3.000000   35.000000    1.000000    0.000000   31.000000\n",
       "max      1.000000    3.000000   80.000000    8.000000    6.000000  512.329200"
      ]
     },
     "execution_count": 19,
     "metadata": {},
     "output_type": "execute_result"
    }
   ],
   "source": [
    "training_data.describe()"
   ]
  },
  {
   "cell_type": "code",
   "execution_count": 20,
   "id": "39273ecb",
   "metadata": {
    "execution": {
     "iopub.execute_input": "2022-11-02T06:54:08.191226Z",
     "iopub.status.busy": "2022-11-02T06:54:08.190503Z",
     "iopub.status.idle": "2022-11-02T06:54:08.227858Z",
     "shell.execute_reply": "2022-11-02T06:54:08.225843Z"
    },
    "papermill": {
     "duration": 0.062524,
     "end_time": "2022-11-02T06:54:08.231447",
     "exception": false,
     "start_time": "2022-11-02T06:54:08.168923",
     "status": "completed"
    },
    "tags": []
   },
   "outputs": [
    {
     "data": {
      "text/html": [
       "<div>\n",
       "<style scoped>\n",
       "    .dataframe tbody tr th:only-of-type {\n",
       "        vertical-align: middle;\n",
       "    }\n",
       "\n",
       "    .dataframe tbody tr th {\n",
       "        vertical-align: top;\n",
       "    }\n",
       "\n",
       "    .dataframe thead th {\n",
       "        text-align: right;\n",
       "    }\n",
       "</style>\n",
       "<table border=\"1\" class=\"dataframe\">\n",
       "  <thead>\n",
       "    <tr style=\"text-align: right;\">\n",
       "      <th></th>\n",
       "      <th>Survived</th>\n",
       "      <th>Pclass</th>\n",
       "      <th>Age</th>\n",
       "      <th>SibSp</th>\n",
       "      <th>Parch</th>\n",
       "      <th>Fare</th>\n",
       "    </tr>\n",
       "  </thead>\n",
       "  <tbody>\n",
       "    <tr>\n",
       "      <th>count</th>\n",
       "      <td>577.000000</td>\n",
       "      <td>577.000000</td>\n",
       "      <td>577.000000</td>\n",
       "      <td>577.000000</td>\n",
       "      <td>577.0</td>\n",
       "      <td>577.000000</td>\n",
       "    </tr>\n",
       "    <tr>\n",
       "      <th>mean</th>\n",
       "      <td>0.299827</td>\n",
       "      <td>2.502600</td>\n",
       "      <td>29.742060</td>\n",
       "      <td>0.199307</td>\n",
       "      <td>0.0</td>\n",
       "      <td>14.926356</td>\n",
       "    </tr>\n",
       "    <tr>\n",
       "      <th>std</th>\n",
       "      <td>0.458579</td>\n",
       "      <td>0.733909</td>\n",
       "      <td>8.516997</td>\n",
       "      <td>0.445034</td>\n",
       "      <td>0.0</td>\n",
       "      <td>12.606521</td>\n",
       "    </tr>\n",
       "    <tr>\n",
       "      <th>min</th>\n",
       "      <td>0.000000</td>\n",
       "      <td>1.000000</td>\n",
       "      <td>5.000000</td>\n",
       "      <td>0.000000</td>\n",
       "      <td>0.0</td>\n",
       "      <td>0.000000</td>\n",
       "    </tr>\n",
       "    <tr>\n",
       "      <th>25%</th>\n",
       "      <td>0.000000</td>\n",
       "      <td>2.000000</td>\n",
       "      <td>24.000000</td>\n",
       "      <td>0.000000</td>\n",
       "      <td>0.0</td>\n",
       "      <td>7.775000</td>\n",
       "    </tr>\n",
       "    <tr>\n",
       "      <th>50%</th>\n",
       "      <td>0.000000</td>\n",
       "      <td>3.000000</td>\n",
       "      <td>29.699118</td>\n",
       "      <td>0.000000</td>\n",
       "      <td>0.0</td>\n",
       "      <td>8.662500</td>\n",
       "    </tr>\n",
       "    <tr>\n",
       "      <th>75%</th>\n",
       "      <td>1.000000</td>\n",
       "      <td>3.000000</td>\n",
       "      <td>32.500000</td>\n",
       "      <td>0.000000</td>\n",
       "      <td>0.0</td>\n",
       "      <td>15.850000</td>\n",
       "    </tr>\n",
       "    <tr>\n",
       "      <th>max</th>\n",
       "      <td>1.000000</td>\n",
       "      <td>3.000000</td>\n",
       "      <td>54.000000</td>\n",
       "      <td>2.000000</td>\n",
       "      <td>0.0</td>\n",
       "      <td>61.175000</td>\n",
       "    </tr>\n",
       "  </tbody>\n",
       "</table>\n",
       "</div>"
      ],
      "text/plain": [
       "         Survived      Pclass         Age       SibSp  Parch        Fare\n",
       "count  577.000000  577.000000  577.000000  577.000000  577.0  577.000000\n",
       "mean     0.299827    2.502600   29.742060    0.199307    0.0   14.926356\n",
       "std      0.458579    0.733909    8.516997    0.445034    0.0   12.606521\n",
       "min      0.000000    1.000000    5.000000    0.000000    0.0    0.000000\n",
       "25%      0.000000    2.000000   24.000000    0.000000    0.0    7.775000\n",
       "50%      0.000000    3.000000   29.699118    0.000000    0.0    8.662500\n",
       "75%      1.000000    3.000000   32.500000    0.000000    0.0   15.850000\n",
       "max      1.000000    3.000000   54.000000    2.000000    0.0   61.175000"
      ]
     },
     "execution_count": 20,
     "metadata": {},
     "output_type": "execute_result"
    }
   ],
   "source": [
    "no_outliers_training.describe()"
   ]
  },
  {
   "cell_type": "code",
   "execution_count": 21,
   "id": "e0fd1dfe",
   "metadata": {
    "execution": {
     "iopub.execute_input": "2022-11-02T06:54:08.274759Z",
     "iopub.status.busy": "2022-11-02T06:54:08.274374Z",
     "iopub.status.idle": "2022-11-02T06:54:08.612486Z",
     "shell.execute_reply": "2022-11-02T06:54:08.610660Z"
    },
    "papermill": {
     "duration": 0.364743,
     "end_time": "2022-11-02T06:54:08.615900",
     "exception": false,
     "start_time": "2022-11-02T06:54:08.251157",
     "status": "completed"
    },
    "tags": []
   },
   "outputs": [
    {
     "data": {
      "text/plain": [
       "<AxesSubplot:>"
      ]
     },
     "execution_count": 21,
     "metadata": {},
     "output_type": "execute_result"
    },
    {
     "data": {
      "image/png": "[encoded data removed]",
      "text/plain": [
       "<Figure size 432x288 with 2 Axes>"
      ]
     },
     "metadata": {
      "needs_background": "light"
     },
     "output_type": "display_data"
    }
   ],
   "source": [
    "sns.heatmap(data=no_outliers_training.corr(method=\"spearman\"),vmin=-1,vmax=1,annot=True)"
   ]
  },
  {
   "cell_type": "code",
   "execution_count": 22,
   "id": "33fbad19",
   "metadata": {
    "execution": {
     "iopub.execute_input": "2022-11-02T06:54:08.655688Z",
     "iopub.status.busy": "2022-11-02T06:54:08.654249Z",
     "iopub.status.idle": "2022-11-02T06:54:11.990594Z",
     "shell.execute_reply": "2022-11-02T06:54:11.988469Z"
    },
    "papermill": {
     "duration": 3.360065,
     "end_time": "2022-11-02T06:54:11.993999",
     "exception": false,
     "start_time": "2022-11-02T06:54:08.633934",
     "status": "completed"
    },
    "tags": []
   },
   "outputs": [
    {
     "name": "stderr",
     "output_type": "stream",
     "text": [
      "C:\\Python\\Python39\\lib\\site-packages\\pandas\\plotting\\_matplotlib\\misc.py:100: UserWarning: Attempting to set identical left == right == 0.0 results in singular transformations; automatically expanding.\n",
      "  ax.set_xlim(boundaries_list[j])\n",
      "C:\\Python\\Python39\\lib\\site-packages\\pandas\\plotting\\_matplotlib\\misc.py:101: UserWarning: Attempting to set identical bottom == top == 0.0 results in singular transformations; automatically expanding.\n",
      "  ax.set_ylim(boundaries_list[i])\n",
      "C:\\Python\\Python39\\lib\\site-packages\\pandas\\plotting\\_matplotlib\\misc.py:91: UserWarning: Attempting to set identical left == right == 0.0 results in singular transformations; automatically expanding.\n",
      "  ax.set_xlim(boundaries_list[i])\n"
     ]
    },
    {
     "data": {
      "text/plain": [
       "<Figure size 432x288 with 0 Axes>"
      ]
     },
     "execution_count": 22,
     "metadata": {},
     "output_type": "execute_result"
    },
    {
     "data": {
      "image/png": "[encoded data removed]",
      "text/plain": [
       "<Figure size 1440x1440 with 36 Axes>"
      ]
     },
     "metadata": {
      "needs_background": "light"
     },
     "output_type": "display_data"
    },
    {
     "data": {
      "text/plain": [
       "<Figure size 432x288 with 0 Axes>"
      ]
     },
     "metadata": {},
     "output_type": "display_data"
    }
   ],
   "source": [
    "pd.plotting.scatter_matrix(no_outliers_training,figsize=(20,20))\n",
    "plt.figure()"
   ]
  },
  {
   "cell_type": "markdown",
   "id": "6d51b2d9",
   "metadata": {
    "papermill": {
     "duration": 0.025619,
     "end_time": "2022-11-02T06:54:12.042201",
     "exception": false,
     "start_time": "2022-11-02T06:54:12.016582",
     "status": "completed"
    },
    "tags": []
   },
   "source": [
    "**Is the dataset balanced?**"
   ]
  },
  {
   "cell_type": "markdown",
   "id": "ab006b26",
   "metadata": {
    "papermill": {
     "duration": 0.022594,
     "end_time": "2022-11-02T06:54:12.088000",
     "exception": false,
     "start_time": "2022-11-02T06:54:12.065406",
     "status": "completed"
    },
    "tags": []
   },
   "source": [
    "**Before balancing the data**\n",
    "\n",
    "We'll map the Sex and Embarked columns to numeric values. **This operation must be applied to test data too**"
   ]
  },
  {
   "cell_type": "code",
   "execution_count": 23,
   "id": "62b51d73",
   "metadata": {
    "execution": {
     "iopub.execute_input": "2022-11-02T06:54:12.138913Z",
     "iopub.status.busy": "2022-11-02T06:54:12.138442Z",
     "iopub.status.idle": "2022-11-02T06:54:12.143342Z",
     "shell.execute_reply": "2022-11-02T06:54:12.142190Z"
    },
    "papermill": {
     "duration": 0.034606,
     "end_time": "2022-11-02T06:54:12.145557",
     "exception": false,
     "start_time": "2022-11-02T06:54:12.110951",
     "status": "completed"
    },
    "tags": []
   },
   "outputs": [],
   "source": [
    "label_encoder = LabelEncoder()"
   ]
  },
  {
   "cell_type": "code",
   "execution_count": 24,
   "id": "b358cc2c",
   "metadata": {
    "execution": {
     "iopub.execute_input": "2022-11-02T06:54:12.200754Z",
     "iopub.status.busy": "2022-11-02T06:54:12.198881Z",
     "iopub.status.idle": "2022-11-02T06:54:12.208498Z",
     "shell.execute_reply": "2022-11-02T06:54:12.207415Z"
    },
    "papermill": {
     "duration": 0.044122,
     "end_time": "2022-11-02T06:54:12.212181",
     "exception": false,
     "start_time": "2022-11-02T06:54:12.168059",
     "status": "completed"
    },
    "tags": []
   },
   "outputs": [],
   "source": [
    "no_outliers_training['Sex']= label_encoder.fit_transform(no_outliers_training['Sex'])\n",
    "no_outliers_training['Embarked']= label_encoder.fit_transform(no_outliers_training['Embarked'])"
   ]
  },
  {
   "cell_type": "markdown",
   "id": "26f9799c",
   "metadata": {
    "papermill": {
     "duration": 0.024694,
     "end_time": "2022-11-02T06:54:12.268836",
     "exception": false,
     "start_time": "2022-11-02T06:54:12.244142",
     "status": "completed"
    },
    "tags": []
   },
   "source": [
    "**Balance the data**"
   ]
  },
  {
   "cell_type": "code",
   "execution_count": 25,
   "id": "afb21150",
   "metadata": {
    "execution": {
     "iopub.execute_input": "2022-11-02T06:54:12.318985Z",
     "iopub.status.busy": "2022-11-02T06:54:12.318357Z",
     "iopub.status.idle": "2022-11-02T06:54:27.697694Z",
     "shell.execute_reply": "2022-11-02T06:54:27.695534Z"
    },
    "papermill": {
     "duration": 15.408215,
     "end_time": "2022-11-02T06:54:27.701083",
     "exception": false,
     "start_time": "2022-11-02T06:54:12.292868",
     "status": "completed"
    },
    "tags": []
   },
   "outputs": [
    {
     "name": "stdout",
     "output_type": "stream",
     "text": [
      "Requirement already satisfied: imbalanced-learn in c:\\python\\python39\\lib\\site-packages (0.9.1)\n",
      "Requirement already satisfied: numpy>=1.17.3 in c:\\python\\python39\\lib\\site-packages (from imbalanced-learn) (1.22.2)\n",
      "Requirement already satisfied: scipy>=1.3.2 in c:\\python\\python39\\lib\\site-packages (from imbalanced-learn) (1.8.0)\n",
      "Requirement already satisfied: joblib>=1.0.0 in c:\\python\\python39\\lib\\site-packages (from imbalanced-learn) (1.1.0)\n",
      "Requirement already satisfied: scikit-learn>=1.1.0 in c:\\python\\python39\\lib\\site-packages (from imbalanced-learn) (1.1.3)\n",
      "Requirement already satisfied: threadpoolctl>=2.0.0 in c:\\python\\python39\\lib\\site-packages (from imbalanced-learn) (3.1.0)\n"
     ]
    }
   ],
   "source": [
    "!pip install -U imbalanced-learn\n",
    "from imblearn.combine import SMOTETomek"
   ]
  },
  {
   "cell_type": "code",
   "execution_count": 26,
   "id": "152add05",
   "metadata": {
    "execution": {
     "iopub.execute_input": "2022-11-02T06:54:27.750442Z",
     "iopub.status.busy": "2022-11-02T06:54:27.748567Z",
     "iopub.status.idle": "2022-11-02T06:54:27.761030Z",
     "shell.execute_reply": "2022-11-02T06:54:27.758030Z"
    },
    "papermill": {
     "duration": 0.040763,
     "end_time": "2022-11-02T06:54:27.764929",
     "exception": false,
     "start_time": "2022-11-02T06:54:27.724166",
     "status": "completed"
    },
    "tags": []
   },
   "outputs": [],
   "source": [
    "X_train = no_outliers_training.drop('Survived', axis=1)"
   ]
  },
  {
   "cell_type": "code",
   "execution_count": 27,
   "id": "6299c572",
   "metadata": {
    "execution": {
     "iopub.execute_input": "2022-11-02T06:54:27.813011Z",
     "iopub.status.busy": "2022-11-02T06:54:27.812596Z",
     "iopub.status.idle": "2022-11-02T06:54:27.818529Z",
     "shell.execute_reply": "2022-11-02T06:54:27.817190Z"
    },
    "papermill": {
     "duration": 0.036268,
     "end_time": "2022-11-02T06:54:27.822059",
     "exception": false,
     "start_time": "2022-11-02T06:54:27.785791",
     "status": "completed"
    },
    "tags": []
   },
   "outputs": [],
   "source": [
    "y_train = no_outliers_training['Survived']"
   ]
  },
  {
   "cell_type": "code",
   "execution_count": 28,
   "id": "946755b9",
   "metadata": {
    "execution": {
     "iopub.execute_input": "2022-11-02T06:54:27.872995Z",
     "iopub.status.busy": "2022-11-02T06:54:27.872397Z",
     "iopub.status.idle": "2022-11-02T06:54:27.891297Z",
     "shell.execute_reply": "2022-11-02T06:54:27.890332Z"
    },
    "papermill": {
     "duration": 0.049758,
     "end_time": "2022-11-02T06:54:27.893986",
     "exception": false,
     "start_time": "2022-11-02T06:54:27.844228",
     "status": "completed"
    },
    "tags": []
   },
   "outputs": [],
   "source": [
    "smote_tomek = SMOTETomek(random_state = 12)\n",
    "X_train_resampled, y_train_resampled = smote_tomek.fit_resample(X_train,y_train)"
   ]
  },
  {
   "cell_type": "code",
   "execution_count": 29,
   "id": "a98be32c",
   "metadata": {
    "execution": {
     "iopub.execute_input": "2022-11-02T06:54:27.944866Z",
     "iopub.status.busy": "2022-11-02T06:54:27.944459Z",
     "iopub.status.idle": "2022-11-02T06:54:29.635958Z",
     "shell.execute_reply": "2022-11-02T06:54:29.635178Z"
    },
    "papermill": {
     "duration": 1.718928,
     "end_time": "2022-11-02T06:54:29.638759",
     "exception": false,
     "start_time": "2022-11-02T06:54:27.919831",
     "status": "completed"
    },
    "tags": []
   },
   "outputs": [
    {
     "data": {
      "text/plain": [
       "<AxesSubplot:xlabel='Embarked', ylabel='Count'>"
      ]
     },
     "execution_count": 29,
     "metadata": {},
     "output_type": "execute_result"
    },
    {
     "data": {
      "image/png": "[encoded data removed]",
      "text/plain": [
       "<Figure size 1440x720 with 9 Axes>"
      ]
     },
     "metadata": {
      "needs_background": "light"
     },
     "output_type": "display_data"
    }
   ],
   "source": [
    "resampled_figure, resampled_axes = plt.subplots(3,3,figsize=(20,10))\n",
    "sns.histplot(ax=resampled_axes[0][0],data=X_train_resampled,x=\"Pclass\")\n",
    "sns.histplot(ax=resampled_axes[0][1],data=X_train_resampled,x=\"Sex\")\n",
    "sns.histplot(ax=resampled_axes[0][2],data=X_train_resampled,x=\"Age\")\n",
    "\n",
    "\n",
    "sns.histplot(ax=resampled_axes[1][0],data=X_train_resampled,x=\"SibSp\")\n",
    "sns.histplot(ax=resampled_axes[1][1],data=X_train_resampled,x=\"Parch\")\n",
    "sns.histplot(ax=resampled_axes[1][2],data=X_train_resampled,x=\"Fare\")\n",
    "sns.histplot(ax=resampled_axes[2][0],data=X_train_resampled,x=\"Embarked\")"
   ]
  },
  {
   "cell_type": "markdown",
   "id": "22c7454e",
   "metadata": {
    "papermill": {
     "duration": 0.022664,
     "end_time": "2022-11-02T06:54:29.684178",
     "exception": false,
     "start_time": "2022-11-02T06:54:29.661514",
     "status": "completed"
    },
    "tags": []
   },
   "source": [
    "# Choose a model"
   ]
  },
  {
   "cell_type": "markdown",
   "id": "86ffa87e",
   "metadata": {
    "papermill": {
     "duration": 0.023312,
     "end_time": "2022-11-02T06:54:29.731636",
     "exception": false,
     "start_time": "2022-11-02T06:54:29.708324",
     "status": "completed"
    },
    "tags": []
   },
   "source": [
    "Let's start by checking the order of magnitude of our resampled dataset"
   ]
  },
  {
   "cell_type": "code",
   "execution_count": 30,
   "id": "95ceeef1",
   "metadata": {
    "execution": {
     "iopub.execute_input": "2022-11-02T06:54:29.781380Z",
     "iopub.status.busy": "2022-11-02T06:54:29.780691Z",
     "iopub.status.idle": "2022-11-02T06:54:29.790676Z",
     "shell.execute_reply": "2022-11-02T06:54:29.789200Z"
    },
    "papermill": {
     "duration": 0.040117,
     "end_time": "2022-11-02T06:54:29.793641",
     "exception": false,
     "start_time": "2022-11-02T06:54:29.753524",
     "status": "completed"
    },
    "tags": []
   },
   "outputs": [
    {
     "data": {
      "text/plain": [
       "Pclass      758\n",
       "Sex         758\n",
       "Age         758\n",
       "SibSp       758\n",
       "Parch       758\n",
       "Fare        758\n",
       "Embarked    758\n",
       "dtype: int64"
      ]
     },
     "execution_count": 30,
     "metadata": {},
     "output_type": "execute_result"
    }
   ],
   "source": [
    "X_train_resampled.count()"
   ]
  },
  {
   "cell_type": "code",
   "execution_count": 31,
   "id": "0c93b627",
   "metadata": {
    "execution": {
     "iopub.execute_input": "2022-11-02T06:54:29.843563Z",
     "iopub.status.busy": "2022-11-02T06:54:29.842384Z",
     "iopub.status.idle": "2022-11-02T06:54:29.861370Z",
     "shell.execute_reply": "2022-11-02T06:54:29.859482Z"
    },
    "papermill": {
     "duration": 0.046976,
     "end_time": "2022-11-02T06:54:29.864528",
     "exception": false,
     "start_time": "2022-11-02T06:54:29.817552",
     "status": "completed"
    },
    "tags": []
   },
   "outputs": [
    {
     "name": "stdout",
     "output_type": "stream",
     "text": [
      "<class 'pandas.core.frame.DataFrame'>\n",
      "RangeIndex: 758 entries, 0 to 757\n",
      "Data columns (total 7 columns):\n",
      " #   Column    Non-Null Count  Dtype  \n",
      "---  ------    --------------  -----  \n",
      " 0   Pclass    758 non-null    int64  \n",
      " 1   Sex       758 non-null    int32  \n",
      " 2   Age       758 non-null    float64\n",
      " 3   SibSp     758 non-null    int64  \n",
      " 4   Parch     758 non-null    int64  \n",
      " 5   Fare      758 non-null    float64\n",
      " 6   Embarked  758 non-null    int32  \n",
      "dtypes: float64(2), int32(2), int64(3)\n",
      "memory usage: 35.7 KB\n"
     ]
    }
   ],
   "source": [
    "X_train_resampled.info()"
   ]
  },
  {
   "cell_type": "code",
   "execution_count": 32,
   "id": "0eb36de9",
   "metadata": {
    "execution": {
     "iopub.execute_input": "2022-11-02T06:54:29.917846Z",
     "iopub.status.busy": "2022-11-02T06:54:29.916078Z",
     "iopub.status.idle": "2022-11-02T06:54:29.933140Z",
     "shell.execute_reply": "2022-11-02T06:54:29.931428Z"
    },
    "papermill": {
     "duration": 0.045351,
     "end_time": "2022-11-02T06:54:29.936268",
     "exception": false,
     "start_time": "2022-11-02T06:54:29.890917",
     "status": "completed"
    },
    "tags": []
   },
   "outputs": [
    {
     "data": {
      "text/html": [
       "<div>\n",
       "<style scoped>\n",
       "    .dataframe tbody tr th:only-of-type {\n",
       "        vertical-align: middle;\n",
       "    }\n",
       "\n",
       "    .dataframe tbody tr th {\n",
       "        vertical-align: top;\n",
       "    }\n",
       "\n",
       "    .dataframe thead th {\n",
       "        text-align: right;\n",
       "    }\n",
       "</style>\n",
       "<table border=\"1\" class=\"dataframe\">\n",
       "  <thead>\n",
       "    <tr style=\"text-align: right;\">\n",
       "      <th></th>\n",
       "      <th>Pclass</th>\n",
       "      <th>Sex</th>\n",
       "      <th>Age</th>\n",
       "      <th>SibSp</th>\n",
       "      <th>Parch</th>\n",
       "      <th>Fare</th>\n",
       "      <th>Embarked</th>\n",
       "    </tr>\n",
       "  </thead>\n",
       "  <tbody>\n",
       "    <tr>\n",
       "      <th>0</th>\n",
       "      <td>3</td>\n",
       "      <td>1</td>\n",
       "      <td>22.000000</td>\n",
       "      <td>1</td>\n",
       "      <td>0</td>\n",
       "      <td>7.2500</td>\n",
       "      <td>2</td>\n",
       "    </tr>\n",
       "    <tr>\n",
       "      <th>1</th>\n",
       "      <td>3</td>\n",
       "      <td>0</td>\n",
       "      <td>26.000000</td>\n",
       "      <td>0</td>\n",
       "      <td>0</td>\n",
       "      <td>7.9250</td>\n",
       "      <td>2</td>\n",
       "    </tr>\n",
       "    <tr>\n",
       "      <th>2</th>\n",
       "      <td>1</td>\n",
       "      <td>0</td>\n",
       "      <td>35.000000</td>\n",
       "      <td>1</td>\n",
       "      <td>0</td>\n",
       "      <td>53.1000</td>\n",
       "      <td>2</td>\n",
       "    </tr>\n",
       "    <tr>\n",
       "      <th>3</th>\n",
       "      <td>3</td>\n",
       "      <td>1</td>\n",
       "      <td>35.000000</td>\n",
       "      <td>0</td>\n",
       "      <td>0</td>\n",
       "      <td>8.0500</td>\n",
       "      <td>2</td>\n",
       "    </tr>\n",
       "    <tr>\n",
       "      <th>4</th>\n",
       "      <td>3</td>\n",
       "      <td>1</td>\n",
       "      <td>29.699118</td>\n",
       "      <td>0</td>\n",
       "      <td>0</td>\n",
       "      <td>8.4583</td>\n",
       "      <td>1</td>\n",
       "    </tr>\n",
       "  </tbody>\n",
       "</table>\n",
       "</div>"
      ],
      "text/plain": [
       "   Pclass  Sex        Age  SibSp  Parch     Fare  Embarked\n",
       "0       3    1  22.000000      1      0   7.2500         2\n",
       "1       3    0  26.000000      0      0   7.9250         2\n",
       "2       1    0  35.000000      1      0  53.1000         2\n",
       "3       3    1  35.000000      0      0   8.0500         2\n",
       "4       3    1  29.699118      0      0   8.4583         1"
      ]
     },
     "execution_count": 32,
     "metadata": {},
     "output_type": "execute_result"
    }
   ],
   "source": [
    "X_train_resampled.head()"
   ]
  },
  {
   "cell_type": "code",
   "execution_count": 33,
   "id": "1ae2b7d4",
   "metadata": {
    "execution": {
     "iopub.execute_input": "2022-11-02T06:54:29.985930Z",
     "iopub.status.busy": "2022-11-02T06:54:29.985490Z",
     "iopub.status.idle": "2022-11-02T06:54:29.994370Z",
     "shell.execute_reply": "2022-11-02T06:54:29.993031Z"
    },
    "papermill": {
     "duration": 0.036977,
     "end_time": "2022-11-02T06:54:29.997400",
     "exception": false,
     "start_time": "2022-11-02T06:54:29.960423",
     "status": "completed"
    },
    "tags": []
   },
   "outputs": [
    {
     "data": {
      "text/plain": [
       "0    0\n",
       "1    1\n",
       "2    1\n",
       "3    0\n",
       "4    0\n",
       "Name: Survived, dtype: int64"
      ]
     },
     "execution_count": 33,
     "metadata": {},
     "output_type": "execute_result"
    }
   ],
   "source": [
    "y_train_resampled.head()"
   ]
  },
  {
   "cell_type": "markdown",
   "id": "960c0404",
   "metadata": {
    "papermill": {
     "duration": 0.024238,
     "end_time": "2022-11-02T06:54:30.045287",
     "exception": false,
     "start_time": "2022-11-02T06:54:30.021049",
     "status": "completed"
    },
    "tags": []
   },
   "source": [
    "# Data normalization"
   ]
  },
  {
   "cell_type": "code",
   "execution_count": 34,
   "id": "77a76856",
   "metadata": {
    "execution": {
     "iopub.execute_input": "2022-11-02T06:54:30.093836Z",
     "iopub.status.busy": "2022-11-02T06:54:30.092743Z",
     "iopub.status.idle": "2022-11-02T06:54:30.098886Z",
     "shell.execute_reply": "2022-11-02T06:54:30.097264Z"
    },
    "papermill": {
     "duration": 0.034434,
     "end_time": "2022-11-02T06:54:30.102171",
     "exception": false,
     "start_time": "2022-11-02T06:54:30.067737",
     "status": "completed"
    },
    "tags": []
   },
   "outputs": [],
   "source": [
    "from sklearn.preprocessing import StandardScaler"
   ]
  },
  {
   "cell_type": "code",
   "execution_count": 35,
   "id": "8f625cae",
   "metadata": {
    "execution": {
     "iopub.execute_input": "2022-11-02T06:54:30.149180Z",
     "iopub.status.busy": "2022-11-02T06:54:30.148521Z",
     "iopub.status.idle": "2022-11-02T06:54:30.152966Z",
     "shell.execute_reply": "2022-11-02T06:54:30.152070Z"
    },
    "papermill": {
     "duration": 0.03042,
     "end_time": "2022-11-02T06:54:30.155221",
     "exception": false,
     "start_time": "2022-11-02T06:54:30.124801",
     "status": "completed"
    },
    "tags": []
   },
   "outputs": [],
   "source": [
    "scaler = StandardScaler()"
   ]
  },
  {
   "cell_type": "code",
   "execution_count": 36,
   "id": "175318b6",
   "metadata": {
    "execution": {
     "iopub.execute_input": "2022-11-02T06:54:30.203585Z",
     "iopub.status.busy": "2022-11-02T06:54:30.202805Z",
     "iopub.status.idle": "2022-11-02T06:54:30.211947Z",
     "shell.execute_reply": "2022-11-02T06:54:30.209884Z"
    },
    "papermill": {
     "duration": 0.036001,
     "end_time": "2022-11-02T06:54:30.214992",
     "exception": false,
     "start_time": "2022-11-02T06:54:30.178991",
     "status": "completed"
    },
    "tags": []
   },
   "outputs": [],
   "source": [
    "X_train_scaled  = pd.DataFrame(scaler.fit_transform(X_train_resampled.values), columns=X_train_resampled.columns, index=X_train_resampled.index)"
   ]
  },
  {
   "cell_type": "code",
   "execution_count": 37,
   "id": "ad83e51b",
   "metadata": {
    "execution": {
     "iopub.execute_input": "2022-11-02T06:54:30.270241Z",
     "iopub.status.busy": "2022-11-02T06:54:30.269440Z",
     "iopub.status.idle": "2022-11-02T06:54:30.279880Z",
     "shell.execute_reply": "2022-11-02T06:54:30.278687Z"
    },
    "papermill": {
     "duration": 0.044506,
     "end_time": "2022-11-02T06:54:30.283545",
     "exception": false,
     "start_time": "2022-11-02T06:54:30.239039",
     "status": "completed"
    },
    "tags": []
   },
   "outputs": [
    {
     "name": "stdout",
     "output_type": "stream",
     "text": [
      "     Pclass       Sex       Age     SibSp  Parch      Fare  Embarked\n",
      "0  0.743140  0.829576 -0.919424  2.052727    0.0 -0.640673  0.618565\n",
      "1  0.743140 -1.205435 -0.432030 -0.409246    0.0 -0.588214  0.618565\n",
      "2 -1.945644 -1.205435  0.664606  2.052727    0.0  2.922693  0.618565\n",
      "3  0.743140  0.829576  0.664606 -0.409246    0.0 -0.578499  0.618565\n",
      "4  0.743140  0.829576  0.018701 -0.409246    0.0 -0.546767 -0.781053\n"
     ]
    }
   ],
   "source": [
    "print(X_train_scaled.head())"
   ]
  },
  {
   "cell_type": "markdown",
   "id": "2a305c5d",
   "metadata": {
    "papermill": {
     "duration": 0.020464,
     "end_time": "2022-11-02T06:54:30.326294",
     "exception": false,
     "start_time": "2022-11-02T06:54:30.305830",
     "status": "completed"
    },
    "tags": []
   },
   "source": [
    "# KNN classifier"
   ]
  },
  {
   "cell_type": "markdown",
   "id": "18058001",
   "metadata": {
    "papermill": {
     "duration": 0.026079,
     "end_time": "2022-11-02T06:54:30.380616",
     "exception": false,
     "start_time": "2022-11-02T06:54:30.354537",
     "status": "completed"
    },
    "tags": []
   },
   "source": [
    "**Split in train and test set**"
   ]
  },
  {
   "cell_type": "code",
   "execution_count": 38,
   "id": "cf95a36b",
   "metadata": {
    "execution": {
     "iopub.execute_input": "2022-11-02T06:54:30.427893Z",
     "iopub.status.busy": "2022-11-02T06:54:30.426942Z",
     "iopub.status.idle": "2022-11-02T06:54:30.433650Z",
     "shell.execute_reply": "2022-11-02T06:54:30.431922Z"
    },
    "papermill": {
     "duration": 0.032451,
     "end_time": "2022-11-02T06:54:30.436442",
     "exception": false,
     "start_time": "2022-11-02T06:54:30.403991",
     "status": "completed"
    },
    "tags": []
   },
   "outputs": [],
   "source": [
    "from sklearn.model_selection import train_test_split\n",
    "from sklearn.neighbors import KNeighborsClassifier\n",
    "import math"
   ]
  },
  {
   "cell_type": "code",
   "execution_count": 39,
   "id": "c7e9011d",
   "metadata": {
    "execution": {
     "iopub.execute_input": "2022-11-02T06:54:30.483285Z",
     "iopub.status.busy": "2022-11-02T06:54:30.482656Z",
     "iopub.status.idle": "2022-11-02T06:54:30.488774Z",
     "shell.execute_reply": "2022-11-02T06:54:30.487795Z"
    },
    "papermill": {
     "duration": 0.03144,
     "end_time": "2022-11-02T06:54:30.491131",
     "exception": false,
     "start_time": "2022-11-02T06:54:30.459691",
     "status": "completed"
    },
    "tags": []
   },
   "outputs": [],
   "source": [
    "X_train_KNN, X_test_KNN, y_train_KNN, y_test_KNN = train_test_split(X_train_scaled,y_train_resampled, test_size=0.2,random_state=0)"
   ]
  },
  {
   "cell_type": "markdown",
   "id": "b6d8289f",
   "metadata": {
    "papermill": {
     "duration": 0.023159,
     "end_time": "2022-11-02T06:54:30.539037",
     "exception": false,
     "start_time": "2022-11-02T06:54:30.515878",
     "status": "completed"
    },
    "tags": []
   },
   "source": [
    "**Hyperparameter tuning with GridSearchCV**"
   ]
  },
  {
   "cell_type": "code",
   "execution_count": 40,
   "id": "1c0ae937",
   "metadata": {
    "execution": {
     "iopub.execute_input": "2022-11-02T06:54:30.592662Z",
     "iopub.status.busy": "2022-11-02T06:54:30.592170Z",
     "iopub.status.idle": "2022-11-02T06:54:30.599134Z",
     "shell.execute_reply": "2022-11-02T06:54:30.596997Z"
    },
    "papermill": {
     "duration": 0.040417,
     "end_time": "2022-11-02T06:54:30.603679",
     "exception": false,
     "start_time": "2022-11-02T06:54:30.563262",
     "status": "completed"
    },
    "tags": []
   },
   "outputs": [],
   "source": [
    "from sklearn.model_selection import GridSearchCV"
   ]
  },
  {
   "cell_type": "code",
   "execution_count": 41,
   "id": "cc50353e",
   "metadata": {
    "execution": {
     "iopub.execute_input": "2022-11-02T06:54:30.650830Z",
     "iopub.status.busy": "2022-11-02T06:54:30.650486Z",
     "iopub.status.idle": "2022-11-02T06:54:30.656713Z",
     "shell.execute_reply": "2022-11-02T06:54:30.655399Z"
    },
    "papermill": {
     "duration": 0.030702,
     "end_time": "2022-11-02T06:54:30.658698",
     "exception": false,
     "start_time": "2022-11-02T06:54:30.627996",
     "status": "completed"
    },
    "tags": []
   },
   "outputs": [],
   "source": [
    "n_root = math.sqrt(len(X_train_KNN))\n",
    "n_root_rounded = round(n_root)\n",
    "parameter_range = range(1,n_root_rounded+10)"
   ]
  },
  {
   "cell_type": "code",
   "execution_count": 42,
   "id": "8aa84859",
   "metadata": {
    "execution": {
     "iopub.execute_input": "2022-11-02T06:54:30.705346Z",
     "iopub.status.busy": "2022-11-02T06:54:30.704604Z",
     "iopub.status.idle": "2022-11-02T06:54:39.293039Z",
     "shell.execute_reply": "2022-11-02T06:54:39.291313Z"
    },
    "papermill": {
     "duration": 8.616075,
     "end_time": "2022-11-02T06:54:39.295391",
     "exception": false,
     "start_time": "2022-11-02T06:54:30.679316",
     "status": "completed"
    },
    "tags": []
   },
   "outputs": [
    {
     "data": {
      "text/html": [
       "<style>#sk-container-id-1 {color: black;background-color: white;}#sk-container-id-1 pre{padding: 0;}#sk-container-id-1 div.sk-toggleable {background-color: white;}#sk-container-id-1 label.sk-toggleable__label {cursor: pointer;display: block;width: 100%;margin-bottom: 0;padding: 0.3em;box-sizing: border-box;text-align: center;}#sk-container-id-1 label.sk-toggleable__label-arrow:before {content: \"▸\";float: left;margin-right: 0.25em;color: #696969;}#sk-container-id-1 label.sk-toggleable__label-arrow:hover:before {color: black;}#sk-container-id-1 div.sk-estimator:hover label.sk-toggleable__label-arrow:before {color: black;}#sk-container-id-1 div.sk-toggleable__content {max-height: 0;max-width: 0;overflow: hidden;text-align: left;background-color: #f0f8ff;}#sk-container-id-1 div.sk-toggleable__content pre {margin: 0.2em;color: black;border-radius: 0.25em;background-color: #f0f8ff;}#sk-container-id-1 input.sk-toggleable__control:checked~div.sk-toggleable__content {max-height: 200px;max-width: 100%;overflow: auto;}#sk-container-id-1 input.sk-toggleable__control:checked~label.sk-toggleable__label-arrow:before {content: \"▾\";}#sk-container-id-1 div.sk-estimator input.sk-toggleable__control:checked~label.sk-toggleable__label {background-color: #d4ebff;}#sk-container-id-1 div.sk-label input.sk-toggleable__control:checked~label.sk-toggleable__label {background-color: #d4ebff;}#sk-container-id-1 input.sk-hidden--visually {border: 0;clip: rect(1px 1px 1px 1px);clip: rect(1px, 1px, 1px, 1px);height: 1px;margin: -1px;overflow: hidden;padding: 0;position: absolute;width: 1px;}#sk-container-id-1 div.sk-estimator {font-family: monospace;background-color: #f0f8ff;border: 1px dotted black;border-radius: 0.25em;box-sizing: border-box;margin-bottom: 0.5em;}#sk-container-id-1 div.sk-estimator:hover {background-color: #d4ebff;}#sk-container-id-1 div.sk-parallel-item::after {content: \"\";width: 100%;border-bottom: 1px solid gray;flex-grow: 1;}#sk-container-id-1 div.sk-label:hover label.sk-toggleable__label {background-color: #d4ebff;}#sk-container-id-1 div.sk-serial::before {content: \"\";position: absolute;border-left: 1px solid gray;box-sizing: border-box;top: 0;bottom: 0;left: 50%;z-index: 0;}#sk-container-id-1 div.sk-serial {display: flex;flex-direction: column;align-items: center;background-color: white;padding-right: 0.2em;padding-left: 0.2em;position: relative;}#sk-container-id-1 div.sk-item {position: relative;z-index: 1;}#sk-container-id-1 div.sk-parallel {display: flex;align-items: stretch;justify-content: center;background-color: white;position: relative;}#sk-container-id-1 div.sk-item::before, #sk-container-id-1 div.sk-parallel-item::before {content: \"\";position: absolute;border-left: 1px solid gray;box-sizing: border-box;top: 0;bottom: 0;left: 50%;z-index: -1;}#sk-container-id-1 div.sk-parallel-item {display: flex;flex-direction: column;z-index: 1;position: relative;background-color: white;}#sk-container-id-1 div.sk-parallel-item:first-child::after {align-self: flex-end;width: 50%;}#sk-container-id-1 div.sk-parallel-item:last-child::after {align-self: flex-start;width: 50%;}#sk-container-id-1 div.sk-parallel-item:only-child::after {width: 0;}#sk-container-id-1 div.sk-dashed-wrapped {border: 1px dashed gray;margin: 0 0.4em 0.5em 0.4em;box-sizing: border-box;padding-bottom: 0.4em;background-color: white;}#sk-container-id-1 div.sk-label label {font-family: monospace;font-weight: bold;display: inline-block;line-height: 1.2em;}#sk-container-id-1 div.sk-label-container {text-align: center;}#sk-container-id-1 div.sk-container {/* jupyter's `normalize.less` sets `[hidden] { display: none; }` but bootstrap.min.css set `[hidden] { display: none !important; }` so we also need the `!important` here to be able to override the default hidden behavior on the sphinx rendered scikit-learn.org. See: https://github.com/scikit-learn/scikit-learn/issues/21755 */display: inline-block !important;position: relative;}#sk-container-id-1 div.sk-text-repr-fallback {display: none;}</style><div id=\"sk-container-id-1\" class=\"sk-top-container\"><div class=\"sk-text-repr-fallback\"><pre>GridSearchCV(cv=5, estimator=KNeighborsClassifier(),\n",
       "             param_grid={&#x27;metric&#x27;: [&#x27;minkowski&#x27;, &#x27;euclidean&#x27;, &#x27;manhattan&#x27;],\n",
       "                         &#x27;n_neighbors&#x27;: range(1, 35),\n",
       "                         &#x27;weights&#x27;: [&#x27;uniform&#x27;, &#x27;distance&#x27;]})</pre><b>In a Jupyter environment, please rerun this cell to show the HTML representation or trust the notebook. <br />On GitHub, the HTML representation is unable to render, please try loading this page with nbviewer.org.</b></div><div class=\"sk-container\" hidden><div class=\"sk-item sk-dashed-wrapped\"><div class=\"sk-label-container\"><div class=\"sk-label sk-toggleable\"><input class=\"sk-toggleable__control sk-hidden--visually\" id=\"sk-estimator-id-1\" type=\"checkbox\" ><label for=\"sk-estimator-id-1\" class=\"sk-toggleable__label sk-toggleable__label-arrow\">GridSearchCV</label><div class=\"sk-toggleable__content\"><pre>GridSearchCV(cv=5, estimator=KNeighborsClassifier(),\n",
       "             param_grid={&#x27;metric&#x27;: [&#x27;minkowski&#x27;, &#x27;euclidean&#x27;, &#x27;manhattan&#x27;],\n",
       "                         &#x27;n_neighbors&#x27;: range(1, 35),\n",
       "                         &#x27;weights&#x27;: [&#x27;uniform&#x27;, &#x27;distance&#x27;]})</pre></div></div></div><div class=\"sk-parallel\"><div class=\"sk-parallel-item\"><div class=\"sk-item\"><div class=\"sk-label-container\"><div class=\"sk-label sk-toggleable\"><input class=\"sk-toggleable__control sk-hidden--visually\" id=\"sk-estimator-id-2\" type=\"checkbox\" ><label for=\"sk-estimator-id-2\" class=\"sk-toggleable__label sk-toggleable__label-arrow\">estimator: KNeighborsClassifier</label><div class=\"sk-toggleable__content\"><pre>KNeighborsClassifier()</pre></div></div></div><div class=\"sk-serial\"><div class=\"sk-item\"><div class=\"sk-estimator sk-toggleable\"><input class=\"sk-toggleable__control sk-hidden--visually\" id=\"sk-estimator-id-3\" type=\"checkbox\" ><label for=\"sk-estimator-id-3\" class=\"sk-toggleable__label sk-toggleable__label-arrow\">KNeighborsClassifier</label><div class=\"sk-toggleable__content\"><pre>KNeighborsClassifier()</pre></div></div></div></div></div></div></div></div></div></div>"
      ],
      "text/plain": [
       "GridSearchCV(cv=5, estimator=KNeighborsClassifier(),\n",
       "             param_grid={'metric': ['minkowski', 'euclidean', 'manhattan'],\n",
       "                         'n_neighbors': range(1, 35),\n",
       "                         'weights': ['uniform', 'distance']})"
      ]
     },
     "execution_count": 42,
     "metadata": {},
     "output_type": "execute_result"
    }
   ],
   "source": [
    "knn_grid_search = KNeighborsClassifier()\n",
    "param_grid = { 'n_neighbors' : parameter_range,\n",
    "               'weights' : ['uniform','distance'],\n",
    "               'metric' : ['minkowski','euclidean','manhattan']}\n",
    "#use gridsearch to test all values for n_neighbors\n",
    "knn_gscv = GridSearchCV(knn_grid_search, param_grid, cv=5)\n",
    "#fit model to data\n",
    "knn_gscv.fit(X_train_KNN, y_train_KNN)"
   ]
  },
  {
   "cell_type": "code",
   "execution_count": 43,
   "id": "b92f7368",
   "metadata": {
    "execution": {
     "iopub.execute_input": "2022-11-02T06:54:39.345844Z",
     "iopub.status.busy": "2022-11-02T06:54:39.343717Z",
     "iopub.status.idle": "2022-11-02T06:54:39.353320Z",
     "shell.execute_reply": "2022-11-02T06:54:39.352528Z"
    },
    "papermill": {
     "duration": 0.036545,
     "end_time": "2022-11-02T06:54:39.355275",
     "exception": false,
     "start_time": "2022-11-02T06:54:39.318730",
     "status": "completed"
    },
    "tags": []
   },
   "outputs": [
    {
     "data": {
      "text/plain": [
       "{'metric': 'minkowski', 'n_neighbors': 7, 'weights': 'distance'}"
      ]
     },
     "execution_count": 43,
     "metadata": {},
     "output_type": "execute_result"
    }
   ],
   "source": [
    "knn_gscv.best_params_"
   ]
  },
  {
   "cell_type": "markdown",
   "id": "eac53e50",
   "metadata": {
    "papermill": {
     "duration": 0.022622,
     "end_time": "2022-11-02T06:54:39.404277",
     "exception": false,
     "start_time": "2022-11-02T06:54:39.381655",
     "status": "completed"
    },
    "tags": []
   },
   "source": [
    "## Prediction on test set"
   ]
  },
  {
   "cell_type": "code",
   "execution_count": 44,
   "id": "a53c04bf",
   "metadata": {
    "execution": {
     "iopub.execute_input": "2022-11-02T06:54:39.450684Z",
     "iopub.status.busy": "2022-11-02T06:54:39.450309Z",
     "iopub.status.idle": "2022-11-02T06:54:39.460421Z",
     "shell.execute_reply": "2022-11-02T06:54:39.459527Z"
    },
    "papermill": {
     "duration": 0.035146,
     "end_time": "2022-11-02T06:54:39.462738",
     "exception": false,
     "start_time": "2022-11-02T06:54:39.427592",
     "status": "completed"
    },
    "tags": []
   },
   "outputs": [],
   "source": [
    "KNN = KNeighborsClassifier(metric=knn_gscv.best_params_[\"metric\"], n_neighbors=knn_gscv.best_params_[\"n_neighbors\"],weights=knn_gscv.best_params_[\"weights\"],algorithm='auto')\n",
    "KNN.fit(X_train_KNN, y_train_KNN.ravel())\n",
    "y_predict = KNN.predict(X_test_KNN)"
   ]
  },
  {
   "cell_type": "code",
   "execution_count": 45,
   "id": "2ef69524",
   "metadata": {
    "execution": {
     "iopub.execute_input": "2022-11-02T06:54:39.508987Z",
     "iopub.status.busy": "2022-11-02T06:54:39.508079Z",
     "iopub.status.idle": "2022-11-02T06:54:39.516721Z",
     "shell.execute_reply": "2022-11-02T06:54:39.516112Z"
    },
    "papermill": {
     "duration": 0.034168,
     "end_time": "2022-11-02T06:54:39.518606",
     "exception": false,
     "start_time": "2022-11-02T06:54:39.484438",
     "status": "completed"
    },
    "tags": []
   },
   "outputs": [
    {
     "data": {
      "text/html": [
       "<div>\n",
       "<style scoped>\n",
       "    .dataframe tbody tr th:only-of-type {\n",
       "        vertical-align: middle;\n",
       "    }\n",
       "\n",
       "    .dataframe tbody tr th {\n",
       "        vertical-align: top;\n",
       "    }\n",
       "\n",
       "    .dataframe thead th {\n",
       "        text-align: right;\n",
       "    }\n",
       "</style>\n",
       "<table border=\"1\" class=\"dataframe\">\n",
       "  <thead>\n",
       "    <tr style=\"text-align: right;\">\n",
       "      <th></th>\n",
       "      <th>PassengerId</th>\n",
       "      <th>Survived</th>\n",
       "    </tr>\n",
       "  </thead>\n",
       "  <tbody>\n",
       "    <tr>\n",
       "      <th>0</th>\n",
       "      <td>498</td>\n",
       "      <td>0</td>\n",
       "    </tr>\n",
       "    <tr>\n",
       "      <th>1</th>\n",
       "      <td>364</td>\n",
       "      <td>0</td>\n",
       "    </tr>\n",
       "    <tr>\n",
       "      <th>2</th>\n",
       "      <td>268</td>\n",
       "      <td>1</td>\n",
       "    </tr>\n",
       "    <tr>\n",
       "      <th>3</th>\n",
       "      <td>79</td>\n",
       "      <td>1</td>\n",
       "    </tr>\n",
       "    <tr>\n",
       "      <th>4</th>\n",
       "      <td>436</td>\n",
       "      <td>0</td>\n",
       "    </tr>\n",
       "  </tbody>\n",
       "</table>\n",
       "</div>"
      ],
      "text/plain": [
       "   PassengerId  Survived\n",
       "0          498         0\n",
       "1          364         0\n",
       "2          268         1\n",
       "3           79         1\n",
       "4          436         0"
      ]
     },
     "execution_count": 45,
     "metadata": {},
     "output_type": "execute_result"
    }
   ],
   "source": [
    "summary = pd.DataFrame({'PassengerId': X_test_KNN.index, 'Survived': y_predict})\n",
    "summary.head()"
   ]
  },
  {
   "cell_type": "code",
   "execution_count": 46,
   "id": "ba2668ae",
   "metadata": {
    "execution": {
     "iopub.execute_input": "2022-11-02T06:54:39.565573Z",
     "iopub.status.busy": "2022-11-02T06:54:39.564854Z",
     "iopub.status.idle": "2022-11-02T06:54:39.570276Z",
     "shell.execute_reply": "2022-11-02T06:54:39.569124Z"
    },
    "papermill": {
     "duration": 0.032899,
     "end_time": "2022-11-02T06:54:39.572809",
     "exception": false,
     "start_time": "2022-11-02T06:54:39.539910",
     "status": "completed"
    },
    "tags": []
   },
   "outputs": [],
   "source": [
    "from sklearn import metrics"
   ]
  },
  {
   "cell_type": "code",
   "execution_count": 47,
   "id": "abb905b8",
   "metadata": {
    "execution": {
     "iopub.execute_input": "2022-11-02T06:54:39.624699Z",
     "iopub.status.busy": "2022-11-02T06:54:39.623890Z",
     "iopub.status.idle": "2022-11-02T06:54:39.803340Z",
     "shell.execute_reply": "2022-11-02T06:54:39.802380Z"
    },
    "papermill": {
     "duration": 0.210621,
     "end_time": "2022-11-02T06:54:39.806514",
     "exception": false,
     "start_time": "2022-11-02T06:54:39.595893",
     "status": "completed"
    },
    "tags": []
   },
   "outputs": [
    {
     "data": {
      "image/png": "[encoded data removed]",
      "text/plain": [
       "<Figure size 432x288 with 2 Axes>"
      ]
     },
     "metadata": {
      "needs_background": "light"
     },
     "output_type": "display_data"
    }
   ],
   "source": [
    "confusion_matrix = metrics.confusion_matrix(y_test_KNN, y_predict)\n",
    "\n",
    "cm_display = metrics.ConfusionMatrixDisplay(confusion_matrix = confusion_matrix, display_labels = [False, True])\n",
    "\n",
    "cm_display.plot()\n",
    "plt.show()"
   ]
  },
  {
   "cell_type": "markdown",
   "id": "4847c6b0",
   "metadata": {
    "papermill": {
     "duration": 0.027572,
     "end_time": "2022-11-02T06:54:39.857337",
     "exception": false,
     "start_time": "2022-11-02T06:54:39.829765",
     "status": "completed"
    },
    "tags": []
   },
   "source": [
    "## Prediction on submission data"
   ]
  },
  {
   "cell_type": "markdown",
   "id": "acce9c3c",
   "metadata": {
    "papermill": {
     "duration": 0.026465,
     "end_time": "2022-11-02T06:54:39.909544",
     "exception": false,
     "start_time": "2022-11-02T06:54:39.883079",
     "status": "completed"
    },
    "tags": []
   },
   "source": [
    "**Import the data**"
   ]
  },
  {
   "cell_type": "code",
   "execution_count": 49,
   "id": "af332b24",
   "metadata": {
    "execution": {
     "iopub.execute_input": "2022-11-02T06:54:39.963291Z",
     "iopub.status.busy": "2022-11-02T06:54:39.962957Z",
     "iopub.status.idle": "2022-11-02T06:54:39.978510Z",
     "shell.execute_reply": "2022-11-02T06:54:39.976559Z"
    },
    "papermill": {
     "duration": 0.042786,
     "end_time": "2022-11-02T06:54:39.981508",
     "exception": false,
     "start_time": "2022-11-02T06:54:39.938722",
     "status": "completed"
    },
    "tags": []
   },
   "outputs": [],
   "source": [
    "test_data = pd.read_csv('test.csv', index_col='PassengerId')"
   ]
  },
  {
   "cell_type": "markdown",
   "id": "ff6d1694",
   "metadata": {
    "papermill": {
     "duration": 0.023806,
     "end_time": "2022-11-02T06:54:40.030314",
     "exception": false,
     "start_time": "2022-11-02T06:54:40.006508",
     "status": "completed"
    },
    "tags": []
   },
   "source": [
    "**Preprocess the data**"
   ]
  },
  {
   "cell_type": "code",
   "execution_count": 50,
   "id": "232ed1b5",
   "metadata": {
    "execution": {
     "iopub.execute_input": "2022-11-02T06:54:40.080528Z",
     "iopub.status.busy": "2022-11-02T06:54:40.079909Z",
     "iopub.status.idle": "2022-11-02T06:54:40.086498Z",
     "shell.execute_reply": "2022-11-02T06:54:40.085642Z"
    },
    "papermill": {
     "duration": 0.032048,
     "end_time": "2022-11-02T06:54:40.088765",
     "exception": false,
     "start_time": "2022-11-02T06:54:40.056717",
     "status": "completed"
    },
    "tags": []
   },
   "outputs": [],
   "source": [
    "test_data.drop(['Cabin'], axis=1, inplace=True)"
   ]
  },
  {
   "cell_type": "code",
   "execution_count": 51,
   "id": "f7aea605",
   "metadata": {
    "execution": {
     "iopub.execute_input": "2022-11-02T06:54:40.138643Z",
     "iopub.status.busy": "2022-11-02T06:54:40.138040Z",
     "iopub.status.idle": "2022-11-02T06:54:40.145825Z",
     "shell.execute_reply": "2022-11-02T06:54:40.144053Z"
    },
    "papermill": {
     "duration": 0.037434,
     "end_time": "2022-11-02T06:54:40.148370",
     "exception": false,
     "start_time": "2022-11-02T06:54:40.110936",
     "status": "completed"
    },
    "tags": []
   },
   "outputs": [],
   "source": [
    "test_data.drop(['Ticket'], axis=1, inplace=True)"
   ]
  },
  {
   "cell_type": "code",
   "execution_count": 52,
   "id": "7fb737f0",
   "metadata": {
    "execution": {
     "iopub.execute_input": "2022-11-02T06:54:40.196292Z",
     "iopub.status.busy": "2022-11-02T06:54:40.195911Z",
     "iopub.status.idle": "2022-11-02T06:54:40.201619Z",
     "shell.execute_reply": "2022-11-02T06:54:40.200551Z"
    },
    "papermill": {
     "duration": 0.033759,
     "end_time": "2022-11-02T06:54:40.204444",
     "exception": false,
     "start_time": "2022-11-02T06:54:40.170685",
     "status": "completed"
    },
    "tags": []
   },
   "outputs": [],
   "source": [
    "test_data.drop(['Name'], axis=1, inplace=True)"
   ]
  },
  {
   "cell_type": "code",
   "execution_count": 53,
   "id": "50202622",
   "metadata": {
    "execution": {
     "iopub.execute_input": "2022-11-02T06:54:40.255909Z",
     "iopub.status.busy": "2022-11-02T06:54:40.255515Z",
     "iopub.status.idle": "2022-11-02T06:54:40.262908Z",
     "shell.execute_reply": "2022-11-02T06:54:40.261004Z"
    },
    "papermill": {
     "duration": 0.039164,
     "end_time": "2022-11-02T06:54:40.265888",
     "exception": false,
     "start_time": "2022-11-02T06:54:40.226724",
     "status": "completed"
    },
    "tags": []
   },
   "outputs": [],
   "source": [
    "test_mean_age = test_data['Age'].mean()\n",
    "test_data['Age'].fillna(test_mean_age, inplace=True)"
   ]
  },
  {
   "cell_type": "code",
   "execution_count": 54,
   "id": "fe5a9b69",
   "metadata": {
    "execution": {
     "iopub.execute_input": "2022-11-02T06:54:40.318381Z",
     "iopub.status.busy": "2022-11-02T06:54:40.318006Z",
     "iopub.status.idle": "2022-11-02T06:54:40.323915Z",
     "shell.execute_reply": "2022-11-02T06:54:40.322292Z"
    },
    "papermill": {
     "duration": 0.034797,
     "end_time": "2022-11-02T06:54:40.326494",
     "exception": false,
     "start_time": "2022-11-02T06:54:40.291697",
     "status": "completed"
    },
    "tags": []
   },
   "outputs": [],
   "source": [
    "test_fare_mean = test_data['Fare'].mean()\n",
    "test_data['Fare'].fillna(test_fare_mean, inplace=True)"
   ]
  },
  {
   "cell_type": "code",
   "execution_count": 55,
   "id": "b567898f",
   "metadata": {
    "execution": {
     "iopub.execute_input": "2022-11-02T06:54:40.376027Z",
     "iopub.status.busy": "2022-11-02T06:54:40.375592Z",
     "iopub.status.idle": "2022-11-02T06:54:40.384039Z",
     "shell.execute_reply": "2022-11-02T06:54:40.381607Z"
    },
    "papermill": {
     "duration": 0.037358,
     "end_time": "2022-11-02T06:54:40.387362",
     "exception": false,
     "start_time": "2022-11-02T06:54:40.350004",
     "status": "completed"
    },
    "tags": []
   },
   "outputs": [],
   "source": [
    "test_embarked_mode = training_data['Embarked'].mode()\n",
    "test_data['Embarked'].fillna(test_embarked_mode, inplace=True)"
   ]
  },
  {
   "cell_type": "code",
   "execution_count": 56,
   "id": "08f74feb",
   "metadata": {
    "execution": {
     "iopub.execute_input": "2022-11-02T06:54:40.438591Z",
     "iopub.status.busy": "2022-11-02T06:54:40.438174Z",
     "iopub.status.idle": "2022-11-02T06:54:40.452544Z",
     "shell.execute_reply": "2022-11-02T06:54:40.450920Z"
    },
    "papermill": {
     "duration": 0.044856,
     "end_time": "2022-11-02T06:54:40.456316",
     "exception": false,
     "start_time": "2022-11-02T06:54:40.411460",
     "status": "completed"
    },
    "tags": []
   },
   "outputs": [
    {
     "data": {
      "text/html": [
       "<div>\n",
       "<style scoped>\n",
       "    .dataframe tbody tr th:only-of-type {\n",
       "        vertical-align: middle;\n",
       "    }\n",
       "\n",
       "    .dataframe tbody tr th {\n",
       "        vertical-align: top;\n",
       "    }\n",
       "\n",
       "    .dataframe thead th {\n",
       "        text-align: right;\n",
       "    }\n",
       "</style>\n",
       "<table border=\"1\" class=\"dataframe\">\n",
       "  <thead>\n",
       "    <tr style=\"text-align: right;\">\n",
       "      <th></th>\n",
       "      <th>Pclass</th>\n",
       "      <th>Sex</th>\n",
       "      <th>Age</th>\n",
       "      <th>SibSp</th>\n",
       "      <th>Parch</th>\n",
       "      <th>Fare</th>\n",
       "      <th>Embarked</th>\n",
       "    </tr>\n",
       "    <tr>\n",
       "      <th>PassengerId</th>\n",
       "      <th></th>\n",
       "      <th></th>\n",
       "      <th></th>\n",
       "      <th></th>\n",
       "      <th></th>\n",
       "      <th></th>\n",
       "      <th></th>\n",
       "    </tr>\n",
       "  </thead>\n",
       "  <tbody>\n",
       "    <tr>\n",
       "      <th>892</th>\n",
       "      <td>3</td>\n",
       "      <td>male</td>\n",
       "      <td>34.5</td>\n",
       "      <td>0</td>\n",
       "      <td>0</td>\n",
       "      <td>7.8292</td>\n",
       "      <td>Q</td>\n",
       "    </tr>\n",
       "    <tr>\n",
       "      <th>893</th>\n",
       "      <td>3</td>\n",
       "      <td>female</td>\n",
       "      <td>47.0</td>\n",
       "      <td>1</td>\n",
       "      <td>0</td>\n",
       "      <td>7.0000</td>\n",
       "      <td>S</td>\n",
       "    </tr>\n",
       "    <tr>\n",
       "      <th>894</th>\n",
       "      <td>2</td>\n",
       "      <td>male</td>\n",
       "      <td>62.0</td>\n",
       "      <td>0</td>\n",
       "      <td>0</td>\n",
       "      <td>9.6875</td>\n",
       "      <td>Q</td>\n",
       "    </tr>\n",
       "    <tr>\n",
       "      <th>895</th>\n",
       "      <td>3</td>\n",
       "      <td>male</td>\n",
       "      <td>27.0</td>\n",
       "      <td>0</td>\n",
       "      <td>0</td>\n",
       "      <td>8.6625</td>\n",
       "      <td>S</td>\n",
       "    </tr>\n",
       "    <tr>\n",
       "      <th>896</th>\n",
       "      <td>3</td>\n",
       "      <td>female</td>\n",
       "      <td>22.0</td>\n",
       "      <td>1</td>\n",
       "      <td>1</td>\n",
       "      <td>12.2875</td>\n",
       "      <td>S</td>\n",
       "    </tr>\n",
       "  </tbody>\n",
       "</table>\n",
       "</div>"
      ],
      "text/plain": [
       "             Pclass     Sex   Age  SibSp  Parch     Fare Embarked\n",
       "PassengerId                                                      \n",
       "892               3    male  34.5      0      0   7.8292        Q\n",
       "893               3  female  47.0      1      0   7.0000        S\n",
       "894               2    male  62.0      0      0   9.6875        Q\n",
       "895               3    male  27.0      0      0   8.6625        S\n",
       "896               3  female  22.0      1      1  12.2875        S"
      ]
     },
     "execution_count": 56,
     "metadata": {},
     "output_type": "execute_result"
    }
   ],
   "source": [
    "test_data.head()"
   ]
  },
  {
   "cell_type": "markdown",
   "id": "06384612",
   "metadata": {
    "papermill": {
     "duration": 0.024249,
     "end_time": "2022-11-02T06:54:40.503855",
     "exception": false,
     "start_time": "2022-11-02T06:54:40.479606",
     "status": "completed"
    },
    "tags": []
   },
   "source": [
    "**Data Encoding**"
   ]
  },
  {
   "cell_type": "code",
   "execution_count": 57,
   "id": "c02d07a8",
   "metadata": {
    "execution": {
     "iopub.execute_input": "2022-11-02T06:54:40.553110Z",
     "iopub.status.busy": "2022-11-02T06:54:40.552658Z",
     "iopub.status.idle": "2022-11-02T06:54:40.559720Z",
     "shell.execute_reply": "2022-11-02T06:54:40.558469Z"
    },
    "papermill": {
     "duration": 0.03626,
     "end_time": "2022-11-02T06:54:40.563565",
     "exception": false,
     "start_time": "2022-11-02T06:54:40.527305",
     "status": "completed"
    },
    "tags": []
   },
   "outputs": [],
   "source": [
    "test_data['Sex']= label_encoder.fit_transform(test_data['Sex'])\n",
    "test_data['Embarked']= label_encoder.fit_transform(test_data['Embarked'])"
   ]
  },
  {
   "cell_type": "markdown",
   "id": "88dec80a",
   "metadata": {
    "papermill": {
     "duration": 0.022632,
     "end_time": "2022-11-02T06:54:40.609948",
     "exception": false,
     "start_time": "2022-11-02T06:54:40.587316",
     "status": "completed"
    },
    "tags": []
   },
   "source": [
    "**Data Normalization**"
   ]
  },
  {
   "cell_type": "code",
   "execution_count": 58,
   "id": "38d3cb10",
   "metadata": {
    "execution": {
     "iopub.execute_input": "2022-11-02T06:54:40.660545Z",
     "iopub.status.busy": "2022-11-02T06:54:40.660118Z",
     "iopub.status.idle": "2022-11-02T06:54:40.667580Z",
     "shell.execute_reply": "2022-11-02T06:54:40.665616Z"
    },
    "papermill": {
     "duration": 0.038847,
     "end_time": "2022-11-02T06:54:40.670383",
     "exception": false,
     "start_time": "2022-11-02T06:54:40.631536",
     "status": "completed"
    },
    "tags": []
   },
   "outputs": [],
   "source": [
    "test_data_scaled  = pd.DataFrame(scaler.fit_transform(test_data.values), columns=test_data.columns, index=test_data.index)"
   ]
  },
  {
   "cell_type": "code",
   "execution_count": 59,
   "id": "5476d08e",
   "metadata": {
    "execution": {
     "iopub.execute_input": "2022-11-02T06:54:40.722637Z",
     "iopub.status.busy": "2022-11-02T06:54:40.722211Z",
     "iopub.status.idle": "2022-11-02T06:54:40.738169Z",
     "shell.execute_reply": "2022-11-02T06:54:40.737017Z"
    },
    "papermill": {
     "duration": 0.045228,
     "end_time": "2022-11-02T06:54:40.740209",
     "exception": false,
     "start_time": "2022-11-02T06:54:40.694981",
     "status": "completed"
    },
    "tags": []
   },
   "outputs": [
    {
     "data": {
      "text/html": [
       "<div>\n",
       "<style scoped>\n",
       "    .dataframe tbody tr th:only-of-type {\n",
       "        vertical-align: middle;\n",
       "    }\n",
       "\n",
       "    .dataframe tbody tr th {\n",
       "        vertical-align: top;\n",
       "    }\n",
       "\n",
       "    .dataframe thead th {\n",
       "        text-align: right;\n",
       "    }\n",
       "</style>\n",
       "<table border=\"1\" class=\"dataframe\">\n",
       "  <thead>\n",
       "    <tr style=\"text-align: right;\">\n",
       "      <th></th>\n",
       "      <th>Pclass</th>\n",
       "      <th>Sex</th>\n",
       "      <th>Age</th>\n",
       "      <th>SibSp</th>\n",
       "      <th>Parch</th>\n",
       "      <th>Fare</th>\n",
       "      <th>Embarked</th>\n",
       "    </tr>\n",
       "    <tr>\n",
       "      <th>PassengerId</th>\n",
       "      <th></th>\n",
       "      <th></th>\n",
       "      <th></th>\n",
       "      <th></th>\n",
       "      <th></th>\n",
       "      <th></th>\n",
       "      <th></th>\n",
       "    </tr>\n",
       "  </thead>\n",
       "  <tbody>\n",
       "    <tr>\n",
       "      <th>892</th>\n",
       "      <td>0.873482</td>\n",
       "      <td>0.755929</td>\n",
       "      <td>0.334993</td>\n",
       "      <td>-0.499470</td>\n",
       "      <td>-0.400248</td>\n",
       "      <td>-0.498407</td>\n",
       "      <td>-0.470915</td>\n",
       "    </tr>\n",
       "    <tr>\n",
       "      <th>893</th>\n",
       "      <td>0.873482</td>\n",
       "      <td>-1.322876</td>\n",
       "      <td>1.325530</td>\n",
       "      <td>0.616992</td>\n",
       "      <td>-0.400248</td>\n",
       "      <td>-0.513274</td>\n",
       "      <td>0.700767</td>\n",
       "    </tr>\n",
       "    <tr>\n",
       "      <th>894</th>\n",
       "      <td>-0.315819</td>\n",
       "      <td>0.755929</td>\n",
       "      <td>2.514175</td>\n",
       "      <td>-0.499470</td>\n",
       "      <td>-0.400248</td>\n",
       "      <td>-0.465088</td>\n",
       "      <td>-0.470915</td>\n",
       "    </tr>\n",
       "    <tr>\n",
       "      <th>895</th>\n",
       "      <td>0.873482</td>\n",
       "      <td>0.755929</td>\n",
       "      <td>-0.259330</td>\n",
       "      <td>-0.499470</td>\n",
       "      <td>-0.400248</td>\n",
       "      <td>-0.483466</td>\n",
       "      <td>0.700767</td>\n",
       "    </tr>\n",
       "    <tr>\n",
       "      <th>896</th>\n",
       "      <td>0.873482</td>\n",
       "      <td>-1.322876</td>\n",
       "      <td>-0.655545</td>\n",
       "      <td>0.616992</td>\n",
       "      <td>0.619896</td>\n",
       "      <td>-0.418471</td>\n",
       "      <td>0.700767</td>\n",
       "    </tr>\n",
       "  </tbody>\n",
       "</table>\n",
       "</div>"
      ],
      "text/plain": [
       "               Pclass       Sex       Age     SibSp     Parch      Fare  \\\n",
       "PassengerId                                                               \n",
       "892          0.873482  0.755929  0.334993 -0.499470 -0.400248 -0.498407   \n",
       "893          0.873482 -1.322876  1.325530  0.616992 -0.400248 -0.513274   \n",
       "894         -0.315819  0.755929  2.514175 -0.499470 -0.400248 -0.465088   \n",
       "895          0.873482  0.755929 -0.259330 -0.499470 -0.400248 -0.483466   \n",
       "896          0.873482 -1.322876 -0.655545  0.616992  0.619896 -0.418471   \n",
       "\n",
       "             Embarked  \n",
       "PassengerId            \n",
       "892         -0.470915  \n",
       "893          0.700767  \n",
       "894         -0.470915  \n",
       "895          0.700767  \n",
       "896          0.700767  "
      ]
     },
     "execution_count": 59,
     "metadata": {},
     "output_type": "execute_result"
    }
   ],
   "source": [
    "test_data_scaled.head()"
   ]
  },
  {
   "cell_type": "code",
   "execution_count": 60,
   "id": "4695a87b",
   "metadata": {
    "execution": {
     "iopub.execute_input": "2022-11-02T06:54:40.789524Z",
     "iopub.status.busy": "2022-11-02T06:54:40.789149Z",
     "iopub.status.idle": "2022-11-02T06:54:40.798603Z",
     "shell.execute_reply": "2022-11-02T06:54:40.797027Z"
    },
    "papermill": {
     "duration": 0.037222,
     "end_time": "2022-11-02T06:54:40.801777",
     "exception": false,
     "start_time": "2022-11-02T06:54:40.764555",
     "status": "completed"
    },
    "tags": []
   },
   "outputs": [
    {
     "data": {
      "text/plain": [
       "Pclass      0\n",
       "Sex         0\n",
       "Age         0\n",
       "SibSp       0\n",
       "Parch       0\n",
       "Fare        0\n",
       "Embarked    0\n",
       "dtype: int64"
      ]
     },
     "execution_count": 60,
     "metadata": {},
     "output_type": "execute_result"
    }
   ],
   "source": [
    "test_data_scaled.isnull().sum()"
   ]
  },
  {
   "cell_type": "code",
   "execution_count": 61,
   "id": "613daa5f",
   "metadata": {
    "execution": {
     "iopub.execute_input": "2022-11-02T06:54:40.854477Z",
     "iopub.status.busy": "2022-11-02T06:54:40.853926Z",
     "iopub.status.idle": "2022-11-02T06:54:40.867946Z",
     "shell.execute_reply": "2022-11-02T06:54:40.865772Z"
    },
    "papermill": {
     "duration": 0.045661,
     "end_time": "2022-11-02T06:54:40.871327",
     "exception": false,
     "start_time": "2022-11-02T06:54:40.825666",
     "status": "completed"
    },
    "tags": []
   },
   "outputs": [],
   "source": [
    "y_test_predict = KNN.predict(test_data_scaled)"
   ]
  },
  {
   "cell_type": "code",
   "execution_count": 62,
   "id": "52cfbe22",
   "metadata": {
    "execution": {
     "iopub.execute_input": "2022-11-02T06:54:40.928017Z",
     "iopub.status.busy": "2022-11-02T06:54:40.927602Z",
     "iopub.status.idle": "2022-11-02T06:54:40.933768Z",
     "shell.execute_reply": "2022-11-02T06:54:40.932487Z"
    },
    "papermill": {
     "duration": 0.037769,
     "end_time": "2022-11-02T06:54:40.935967",
     "exception": false,
     "start_time": "2022-11-02T06:54:40.898198",
     "status": "completed"
    },
    "tags": []
   },
   "outputs": [],
   "source": [
    "submission_data = pd.DataFrame({'PassengerId': test_data_scaled.index, 'Survived': y_test_predict})"
   ]
  },
  {
   "cell_type": "code",
   "execution_count": 63,
   "id": "31686cab",
   "metadata": {
    "execution": {
     "iopub.execute_input": "2022-11-02T06:54:40.990639Z",
     "iopub.status.busy": "2022-11-02T06:54:40.990231Z",
     "iopub.status.idle": "2022-11-02T06:54:41.003001Z",
     "shell.execute_reply": "2022-11-02T06:54:41.001854Z"
    },
    "papermill": {
     "duration": 0.046935,
     "end_time": "2022-11-02T06:54:41.006059",
     "exception": false,
     "start_time": "2022-11-02T06:54:40.959124",
     "status": "completed"
    },
    "tags": []
   },
   "outputs": [
    {
     "data": {
      "text/html": [
       "<div>\n",
       "<style scoped>\n",
       "    .dataframe tbody tr th:only-of-type {\n",
       "        vertical-align: middle;\n",
       "    }\n",
       "\n",
       "    .dataframe tbody tr th {\n",
       "        vertical-align: top;\n",
       "    }\n",
       "\n",
       "    .dataframe thead th {\n",
       "        text-align: right;\n",
       "    }\n",
       "</style>\n",
       "<table border=\"1\" class=\"dataframe\">\n",
       "  <thead>\n",
       "    <tr style=\"text-align: right;\">\n",
       "      <th></th>\n",
       "      <th>PassengerId</th>\n",
       "      <th>Survived</th>\n",
       "    </tr>\n",
       "  </thead>\n",
       "  <tbody>\n",
       "    <tr>\n",
       "      <th>0</th>\n",
       "      <td>892</td>\n",
       "      <td>0</td>\n",
       "    </tr>\n",
       "    <tr>\n",
       "      <th>1</th>\n",
       "      <td>893</td>\n",
       "      <td>0</td>\n",
       "    </tr>\n",
       "    <tr>\n",
       "      <th>2</th>\n",
       "      <td>894</td>\n",
       "      <td>0</td>\n",
       "    </tr>\n",
       "    <tr>\n",
       "      <th>3</th>\n",
       "      <td>895</td>\n",
       "      <td>0</td>\n",
       "    </tr>\n",
       "    <tr>\n",
       "      <th>4</th>\n",
       "      <td>896</td>\n",
       "      <td>0</td>\n",
       "    </tr>\n",
       "  </tbody>\n",
       "</table>\n",
       "</div>"
      ],
      "text/plain": [
       "   PassengerId  Survived\n",
       "0          892         0\n",
       "1          893         0\n",
       "2          894         0\n",
       "3          895         0\n",
       "4          896         0"
      ]
     },
     "execution_count": 63,
     "metadata": {},
     "output_type": "execute_result"
    }
   ],
   "source": [
    "submission_data.head()"
   ]
  },
  {
   "cell_type": "code",
   "execution_count": 64,
   "id": "8d9c7dcb",
   "metadata": {
    "execution": {
     "iopub.execute_input": "2022-11-02T06:54:41.059895Z",
     "iopub.status.busy": "2022-11-02T06:54:41.059486Z",
     "iopub.status.idle": "2022-11-02T06:54:41.072184Z",
     "shell.execute_reply": "2022-11-02T06:54:41.069279Z"
    },
    "papermill": {
     "duration": 0.045061,
     "end_time": "2022-11-02T06:54:41.076325",
     "exception": false,
     "start_time": "2022-11-02T06:54:41.031264",
     "status": "completed"
    },
    "tags": []
   },
   "outputs": [],
   "source": [
    "submission_data.to_csv(r'submission.csv', index=False)"
   ]
  },
  {
   "cell_type": "code",
   "execution_count": null,
   "id": "a82606db",
   "metadata": {},
   "outputs": [],
   "source": []
  },
  {
   "cell_type": "code",
   "execution_count": null,
   "id": "8af312ae",
   "metadata": {},
   "outputs": [],
   "source": []
  },
  {
   "cell_type": "code",
   "execution_count": null,
   "id": "7862f6f7",
   "metadata": {},
   "outputs": [],
   "source": []
  }
 ],
 "metadata": {
  "kernelspec": {
   "display_name": "Python 3 (ipykernel)",
   "language": "python",
   "name": "python3"
  },
  "language_info": {
   "codemirror_mode": {
    "name": "ipython",
    "version": 3
   },
   "file_extension": ".py",
   "mimetype": "text/x-python",
   "name": "python",
   "nbconvert_exporter": "python",
   "pygments_lexer": "ipython3",
   "version": "3.9.10"
  },
  "papermill": {
   "default_parameters": {},
   "duration": 50.930114,
   "end_time": "2022-11-02T06:54:42.332687",
   "environment_variables": {},
   "exception": null,
   "input_path": "__notebook__.ipynb",
   "output_path": "__notebook__.ipynb",
   "parameters": {},
   "start_time": "2022-11-02T06:53:51.402573",
   "version": "2.3.4"
  }
 },
 "nbformat": 4,
 "nbformat_minor": 5
}
