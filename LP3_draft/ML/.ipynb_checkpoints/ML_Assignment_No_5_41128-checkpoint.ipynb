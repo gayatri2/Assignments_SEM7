{
 "cells": [
  {
   "cell_type": "markdown",
   "metadata": {},
   "source": [
    "# Gayatri Godbole"
   ]
  },
  {
   "cell_type": "markdown",
   "metadata": {
    "papermill": {
     "duration": 0.023462,
     "end_time": "2022-01-23T16:01:01.829644",
     "exception": false,
     "start_time": "2022-01-23T16:01:01.806182",
     "status": "completed"
    },
    "tags": []
   },
   "source": [
    "# Diabetes predication system with KNN algorithm"
   ]
  },
  {
   "cell_type": "code",
   "execution_count": 23,
   "metadata": {
    "_cell_guid": "b1076dfc-b9ad-4769-8c92-a6c4dae69d19",
    "_uuid": "8f2839f25d086af736a60e9eeb907d3b93b6e0e5",
    "execution": {
     "iopub.execute_input": "2022-01-23T16:01:01.892613Z",
     "iopub.status.busy": "2022-01-23T16:01:01.891697Z",
     "iopub.status.idle": "2022-01-23T16:01:03.506739Z",
     "shell.execute_reply": "2022-01-23T16:01:03.505987Z",
     "shell.execute_reply.started": "2022-01-23T15:59:46.110965Z"
    },
    "papermill": {
     "duration": 1.652146,
     "end_time": "2022-01-23T16:01:03.506929",
     "exception": false,
     "start_time": "2022-01-23T16:01:01.854783",
     "status": "completed"
    },
    "tags": []
   },
   "outputs": [],
   "source": [
    "import numpy as np\n",
    "import pandas as pd\n",
    "import matplotlib.pyplot as plt\n",
    "import seaborn as sns\n",
    "from sklearn.impute import SimpleImputer\n",
    "from sklearn.preprocessing import StandardScaler\n",
    "from sklearn.neighbors import KNeighborsClassifier\n",
    "from sklearn.model_selection import train_test_split, GridSearchCV\n",
    "from sklearn.metrics import confusion_matrix, roc_curve, roc_auc_score, f1_score, recall_score, precision_score"
   ]
  },
  {
   "cell_type": "markdown",
   "metadata": {
    "papermill": {
     "duration": 0.021318,
     "end_time": "2022-01-23T16:01:03.552332",
     "exception": false,
     "start_time": "2022-01-23T16:01:03.531014",
     "status": "completed"
    },
    "tags": []
   },
   "source": [
    "### Load"
   ]
  },
  {
   "cell_type": "code",
   "execution_count": 4,
   "metadata": {
    "execution": {
     "iopub.execute_input": "2022-01-23T16:01:03.602292Z",
     "iopub.status.busy": "2022-01-23T16:01:03.601555Z",
     "iopub.status.idle": "2022-01-23T16:01:03.622658Z",
     "shell.execute_reply": "2022-01-23T16:01:03.623194Z",
     "shell.execute_reply.started": "2022-01-23T15:59:46.119419Z"
    },
    "papermill": {
     "duration": 0.049743,
     "end_time": "2022-01-23T16:01:03.623416",
     "exception": false,
     "start_time": "2022-01-23T16:01:03.573673",
     "status": "completed"
    },
    "tags": []
   },
   "outputs": [],
   "source": [
    "data = pd.read_csv('diabetes.csv')"
   ]
  },
  {
   "cell_type": "markdown",
   "metadata": {
    "papermill": {
     "duration": 0.021569,
     "end_time": "2022-01-23T16:01:03.667618",
     "exception": false,
     "start_time": "2022-01-23T16:01:03.646049",
     "status": "completed"
    },
    "tags": []
   },
   "source": [
    "### Preprocessing"
   ]
  },
  {
   "cell_type": "code",
   "execution_count": 5,
   "metadata": {
    "execution": {
     "iopub.execute_input": "2022-01-23T16:01:03.716876Z",
     "iopub.status.busy": "2022-01-23T16:01:03.715813Z",
     "iopub.status.idle": "2022-01-23T16:01:03.729969Z",
     "shell.execute_reply": "2022-01-23T16:01:03.730492Z",
     "shell.execute_reply.started": "2022-01-23T15:59:46.143383Z"
    },
    "papermill": {
     "duration": 0.040302,
     "end_time": "2022-01-23T16:01:03.730716",
     "exception": false,
     "start_time": "2022-01-23T16:01:03.690414",
     "status": "completed"
    },
    "tags": []
   },
   "outputs": [],
   "source": [
    "data.drop(['Pregnancies', 'BloodPressure', 'SkinThickness'], axis=1, inplace=True)"
   ]
  },
  {
   "cell_type": "code",
   "execution_count": 6,
   "metadata": {
    "execution": {
     "iopub.execute_input": "2022-01-23T16:01:03.780669Z",
     "iopub.status.busy": "2022-01-23T16:01:03.779973Z",
     "iopub.status.idle": "2022-01-23T16:01:03.798071Z",
     "shell.execute_reply": "2022-01-23T16:01:03.798641Z",
     "shell.execute_reply.started": "2022-01-23T15:59:46.151460Z"
    },
    "papermill": {
     "duration": 0.046303,
     "end_time": "2022-01-23T16:01:03.798847",
     "exception": false,
     "start_time": "2022-01-23T16:01:03.752544",
     "status": "completed"
    },
    "tags": []
   },
   "outputs": [
    {
     "name": "stdout",
     "output_type": "stream",
     "text": [
      "<class 'pandas.core.frame.DataFrame'>\n",
      "RangeIndex: 768 entries, 0 to 767\n",
      "Data columns (total 6 columns):\n",
      " #   Column    Non-Null Count  Dtype  \n",
      "---  ------    --------------  -----  \n",
      " 0   Glucose   768 non-null    int64  \n",
      " 1   Insulin   768 non-null    int64  \n",
      " 2   BMI       768 non-null    float64\n",
      " 3   Pedigree  768 non-null    float64\n",
      " 4   Age       768 non-null    int64  \n",
      " 5   Outcome   768 non-null    int64  \n",
      "dtypes: float64(2), int64(4)\n",
      "memory usage: 36.1 KB\n"
     ]
    }
   ],
   "source": [
    "data.info()"
   ]
  },
  {
   "cell_type": "code",
   "execution_count": 7,
   "metadata": {
    "execution": {
     "iopub.execute_input": "2022-01-23T16:01:03.848328Z",
     "iopub.status.busy": "2022-01-23T16:01:03.847652Z",
     "iopub.status.idle": "2022-01-23T16:01:03.868056Z",
     "shell.execute_reply": "2022-01-23T16:01:03.868569Z",
     "shell.execute_reply.started": "2022-01-23T15:59:46.176050Z"
    },
    "papermill": {
     "duration": 0.046277,
     "end_time": "2022-01-23T16:01:03.868750",
     "exception": false,
     "start_time": "2022-01-23T16:01:03.822473",
     "status": "completed"
    },
    "tags": []
   },
   "outputs": [
    {
     "data": {
      "text/html": [
       "<div>\n",
       "<style scoped>\n",
       "    .dataframe tbody tr th:only-of-type {\n",
       "        vertical-align: middle;\n",
       "    }\n",
       "\n",
       "    .dataframe tbody tr th {\n",
       "        vertical-align: top;\n",
       "    }\n",
       "\n",
       "    .dataframe thead th {\n",
       "        text-align: right;\n",
       "    }\n",
       "</style>\n",
       "<table border=\"1\" class=\"dataframe\">\n",
       "  <thead>\n",
       "    <tr style=\"text-align: right;\">\n",
       "      <th></th>\n",
       "      <th>Glucose</th>\n",
       "      <th>Insulin</th>\n",
       "      <th>BMI</th>\n",
       "      <th>Pedigree</th>\n",
       "      <th>Age</th>\n",
       "      <th>Outcome</th>\n",
       "    </tr>\n",
       "  </thead>\n",
       "  <tbody>\n",
       "    <tr>\n",
       "      <th>0</th>\n",
       "      <td>148</td>\n",
       "      <td>0</td>\n",
       "      <td>33.6</td>\n",
       "      <td>0.627</td>\n",
       "      <td>50</td>\n",
       "      <td>1</td>\n",
       "    </tr>\n",
       "    <tr>\n",
       "      <th>1</th>\n",
       "      <td>85</td>\n",
       "      <td>0</td>\n",
       "      <td>26.6</td>\n",
       "      <td>0.351</td>\n",
       "      <td>31</td>\n",
       "      <td>0</td>\n",
       "    </tr>\n",
       "    <tr>\n",
       "      <th>2</th>\n",
       "      <td>183</td>\n",
       "      <td>0</td>\n",
       "      <td>23.3</td>\n",
       "      <td>0.672</td>\n",
       "      <td>32</td>\n",
       "      <td>1</td>\n",
       "    </tr>\n",
       "    <tr>\n",
       "      <th>3</th>\n",
       "      <td>89</td>\n",
       "      <td>94</td>\n",
       "      <td>28.1</td>\n",
       "      <td>0.167</td>\n",
       "      <td>21</td>\n",
       "      <td>0</td>\n",
       "    </tr>\n",
       "    <tr>\n",
       "      <th>4</th>\n",
       "      <td>137</td>\n",
       "      <td>168</td>\n",
       "      <td>43.1</td>\n",
       "      <td>2.288</td>\n",
       "      <td>33</td>\n",
       "      <td>1</td>\n",
       "    </tr>\n",
       "  </tbody>\n",
       "</table>\n",
       "</div>"
      ],
      "text/plain": [
       "   Glucose  Insulin   BMI  Pedigree  Age  Outcome\n",
       "0      148        0  33.6     0.627   50        1\n",
       "1       85        0  26.6     0.351   31        0\n",
       "2      183        0  23.3     0.672   32        1\n",
       "3       89       94  28.1     0.167   21        0\n",
       "4      137      168  43.1     2.288   33        1"
      ]
     },
     "execution_count": 7,
     "metadata": {},
     "output_type": "execute_result"
    }
   ],
   "source": [
    "data.head()"
   ]
  },
  {
   "cell_type": "code",
   "execution_count": 8,
   "metadata": {
    "execution": {
     "iopub.execute_input": "2022-01-23T16:01:03.926252Z",
     "iopub.status.busy": "2022-01-23T16:01:03.925187Z",
     "iopub.status.idle": "2022-01-23T16:01:03.951900Z",
     "shell.execute_reply": "2022-01-23T16:01:03.952486Z",
     "shell.execute_reply.started": "2022-01-23T15:59:46.194637Z"
    },
    "papermill": {
     "duration": 0.059067,
     "end_time": "2022-01-23T16:01:03.952713",
     "exception": false,
     "start_time": "2022-01-23T16:01:03.893646",
     "status": "completed"
    },
    "tags": []
   },
   "outputs": [
    {
     "data": {
      "text/html": [
       "<div>\n",
       "<style scoped>\n",
       "    .dataframe tbody tr th:only-of-type {\n",
       "        vertical-align: middle;\n",
       "    }\n",
       "\n",
       "    .dataframe tbody tr th {\n",
       "        vertical-align: top;\n",
       "    }\n",
       "\n",
       "    .dataframe thead th {\n",
       "        text-align: right;\n",
       "    }\n",
       "</style>\n",
       "<table border=\"1\" class=\"dataframe\">\n",
       "  <thead>\n",
       "    <tr style=\"text-align: right;\">\n",
       "      <th></th>\n",
       "      <th>count</th>\n",
       "      <th>mean</th>\n",
       "      <th>std</th>\n",
       "      <th>min</th>\n",
       "      <th>25%</th>\n",
       "      <th>50%</th>\n",
       "      <th>75%</th>\n",
       "      <th>max</th>\n",
       "    </tr>\n",
       "  </thead>\n",
       "  <tbody>\n",
       "    <tr>\n",
       "      <th>Glucose</th>\n",
       "      <td>768.0</td>\n",
       "      <td>120.894531</td>\n",
       "      <td>31.972618</td>\n",
       "      <td>0.000</td>\n",
       "      <td>99.00000</td>\n",
       "      <td>117.0000</td>\n",
       "      <td>140.25000</td>\n",
       "      <td>199.00</td>\n",
       "    </tr>\n",
       "    <tr>\n",
       "      <th>Insulin</th>\n",
       "      <td>768.0</td>\n",
       "      <td>79.799479</td>\n",
       "      <td>115.244002</td>\n",
       "      <td>0.000</td>\n",
       "      <td>0.00000</td>\n",
       "      <td>30.5000</td>\n",
       "      <td>127.25000</td>\n",
       "      <td>846.00</td>\n",
       "    </tr>\n",
       "    <tr>\n",
       "      <th>BMI</th>\n",
       "      <td>768.0</td>\n",
       "      <td>31.992578</td>\n",
       "      <td>7.884160</td>\n",
       "      <td>0.000</td>\n",
       "      <td>27.30000</td>\n",
       "      <td>32.0000</td>\n",
       "      <td>36.60000</td>\n",
       "      <td>67.10</td>\n",
       "    </tr>\n",
       "    <tr>\n",
       "      <th>Pedigree</th>\n",
       "      <td>768.0</td>\n",
       "      <td>0.471876</td>\n",
       "      <td>0.331329</td>\n",
       "      <td>0.078</td>\n",
       "      <td>0.24375</td>\n",
       "      <td>0.3725</td>\n",
       "      <td>0.62625</td>\n",
       "      <td>2.42</td>\n",
       "    </tr>\n",
       "    <tr>\n",
       "      <th>Age</th>\n",
       "      <td>768.0</td>\n",
       "      <td>33.240885</td>\n",
       "      <td>11.760232</td>\n",
       "      <td>21.000</td>\n",
       "      <td>24.00000</td>\n",
       "      <td>29.0000</td>\n",
       "      <td>41.00000</td>\n",
       "      <td>81.00</td>\n",
       "    </tr>\n",
       "    <tr>\n",
       "      <th>Outcome</th>\n",
       "      <td>768.0</td>\n",
       "      <td>0.348958</td>\n",
       "      <td>0.476951</td>\n",
       "      <td>0.000</td>\n",
       "      <td>0.00000</td>\n",
       "      <td>0.0000</td>\n",
       "      <td>1.00000</td>\n",
       "      <td>1.00</td>\n",
       "    </tr>\n",
       "  </tbody>\n",
       "</table>\n",
       "</div>"
      ],
      "text/plain": [
       "          count        mean         std     min       25%       50%  \\\n",
       "Glucose   768.0  120.894531   31.972618   0.000  99.00000  117.0000   \n",
       "Insulin   768.0   79.799479  115.244002   0.000   0.00000   30.5000   \n",
       "BMI       768.0   31.992578    7.884160   0.000  27.30000   32.0000   \n",
       "Pedigree  768.0    0.471876    0.331329   0.078   0.24375    0.3725   \n",
       "Age       768.0   33.240885   11.760232  21.000  24.00000   29.0000   \n",
       "Outcome   768.0    0.348958    0.476951   0.000   0.00000    0.0000   \n",
       "\n",
       "                75%     max  \n",
       "Glucose   140.25000  199.00  \n",
       "Insulin   127.25000  846.00  \n",
       "BMI        36.60000   67.10  \n",
       "Pedigree    0.62625    2.42  \n",
       "Age        41.00000   81.00  \n",
       "Outcome     1.00000    1.00  "
      ]
     },
     "execution_count": 8,
     "metadata": {},
     "output_type": "execute_result"
    }
   ],
   "source": [
    "data.describe().T"
   ]
  },
  {
   "cell_type": "code",
   "execution_count": 9,
   "metadata": {
    "execution": {
     "iopub.execute_input": "2022-01-23T16:01:04.003586Z",
     "iopub.status.busy": "2022-01-23T16:01:04.002567Z",
     "iopub.status.idle": "2022-01-23T16:01:05.373845Z",
     "shell.execute_reply": "2022-01-23T16:01:05.374326Z",
     "shell.execute_reply.started": "2022-01-23T15:59:46.233666Z"
    },
    "papermill": {
     "duration": 1.398746,
     "end_time": "2022-01-23T16:01:05.374539",
     "exception": false,
     "start_time": "2022-01-23T16:01:03.975793",
     "status": "completed"
    },
    "tags": []
   },
   "outputs": [
    {
     "data": {
      "image/png": "[encoded data removed]",
      "text/plain": [
       "<Figure size 1440x1152 with 6 Axes>"
      ]
     },
     "metadata": {
      "needs_background": "light"
     },
     "output_type": "display_data"
    }
   ],
   "source": [
    "hist = data.hist(figsize=(20,16))"
   ]
  },
  {
   "cell_type": "code",
   "execution_count": 10,
   "metadata": {
    "execution": {
     "iopub.execute_input": "2022-01-23T16:01:05.428022Z",
     "iopub.status.busy": "2022-01-23T16:01:05.427049Z",
     "iopub.status.idle": "2022-01-23T16:01:05.431466Z",
     "shell.execute_reply": "2022-01-23T16:01:05.431969Z",
     "shell.execute_reply.started": "2022-01-23T15:59:47.563269Z"
    },
    "papermill": {
     "duration": 0.032996,
     "end_time": "2022-01-23T16:01:05.432184",
     "exception": false,
     "start_time": "2022-01-23T16:01:05.399188",
     "status": "completed"
    },
    "tags": []
   },
   "outputs": [],
   "source": [
    "target_feature = 'Outcome'\n",
    "num_features = list(set(data.columns) - set([target_feature]))"
   ]
  },
  {
   "cell_type": "markdown",
   "metadata": {
    "papermill": {
     "duration": 0.024334,
     "end_time": "2022-01-23T16:01:05.481438",
     "exception": false,
     "start_time": "2022-01-23T16:01:05.457104",
     "status": "completed"
    },
    "tags": []
   },
   "source": [
    "Train test split"
   ]
  },
  {
   "cell_type": "code",
   "execution_count": 11,
   "metadata": {
    "execution": {
     "iopub.execute_input": "2022-01-23T16:01:05.534959Z",
     "iopub.status.busy": "2022-01-23T16:01:05.533953Z",
     "iopub.status.idle": "2022-01-23T16:01:05.546524Z",
     "shell.execute_reply": "2022-01-23T16:01:05.547065Z",
     "shell.execute_reply.started": "2022-01-23T15:59:47.569030Z"
    },
    "papermill": {
     "duration": 0.041276,
     "end_time": "2022-01-23T16:01:05.547295",
     "exception": false,
     "start_time": "2022-01-23T16:01:05.506019",
     "status": "completed"
    },
    "tags": []
   },
   "outputs": [],
   "source": [
    "X = data.drop(target_feature, axis=1)\n",
    "y = data[target_feature]\n",
    "X_train, X_test, y_train, y_test = train_test_split(X, y, test_size=0.2, random_state=0, stratify=y)"
   ]
  },
  {
   "cell_type": "markdown",
   "metadata": {
    "papermill": {
     "duration": 0.024212,
     "end_time": "2022-01-23T16:01:05.596435",
     "exception": false,
     "start_time": "2022-01-23T16:01:05.572223",
     "status": "completed"
    },
    "tags": []
   },
   "source": [
    "Outliers"
   ]
  },
  {
   "cell_type": "code",
   "execution_count": 12,
   "metadata": {
    "execution": {
     "iopub.execute_input": "2022-01-23T16:01:05.649935Z",
     "iopub.status.busy": "2022-01-23T16:01:05.648976Z",
     "iopub.status.idle": "2022-01-23T16:01:05.661917Z",
     "shell.execute_reply": "2022-01-23T16:01:05.662439Z",
     "shell.execute_reply.started": "2022-01-23T15:59:47.588454Z"
    },
    "papermill": {
     "duration": 0.041555,
     "end_time": "2022-01-23T16:01:05.662655",
     "exception": false,
     "start_time": "2022-01-23T16:01:05.621100",
     "status": "completed"
    },
    "tags": []
   },
   "outputs": [
    {
     "data": {
      "text/html": [
       "<div>\n",
       "<style scoped>\n",
       "    .dataframe tbody tr th:only-of-type {\n",
       "        vertical-align: middle;\n",
       "    }\n",
       "\n",
       "    .dataframe tbody tr th {\n",
       "        vertical-align: top;\n",
       "    }\n",
       "\n",
       "    .dataframe thead th {\n",
       "        text-align: right;\n",
       "    }\n",
       "</style>\n",
       "<table border=\"1\" class=\"dataframe\">\n",
       "  <thead>\n",
       "    <tr style=\"text-align: right;\">\n",
       "      <th></th>\n",
       "      <th>Glucose</th>\n",
       "      <th>Insulin</th>\n",
       "      <th>BMI</th>\n",
       "      <th>Pedigree</th>\n",
       "      <th>Age</th>\n",
       "      <th>Outcome</th>\n",
       "    </tr>\n",
       "  </thead>\n",
       "  <tbody>\n",
       "    <tr>\n",
       "      <th>75</th>\n",
       "      <td>0</td>\n",
       "      <td>0</td>\n",
       "      <td>24.7</td>\n",
       "      <td>0.140</td>\n",
       "      <td>22</td>\n",
       "      <td>0</td>\n",
       "    </tr>\n",
       "    <tr>\n",
       "      <th>182</th>\n",
       "      <td>0</td>\n",
       "      <td>23</td>\n",
       "      <td>27.7</td>\n",
       "      <td>0.299</td>\n",
       "      <td>21</td>\n",
       "      <td>0</td>\n",
       "    </tr>\n",
       "    <tr>\n",
       "      <th>342</th>\n",
       "      <td>0</td>\n",
       "      <td>0</td>\n",
       "      <td>32.0</td>\n",
       "      <td>0.389</td>\n",
       "      <td>22</td>\n",
       "      <td>0</td>\n",
       "    </tr>\n",
       "    <tr>\n",
       "      <th>349</th>\n",
       "      <td>0</td>\n",
       "      <td>0</td>\n",
       "      <td>41.0</td>\n",
       "      <td>0.346</td>\n",
       "      <td>37</td>\n",
       "      <td>1</td>\n",
       "    </tr>\n",
       "    <tr>\n",
       "      <th>502</th>\n",
       "      <td>0</td>\n",
       "      <td>0</td>\n",
       "      <td>39.0</td>\n",
       "      <td>0.727</td>\n",
       "      <td>41</td>\n",
       "      <td>1</td>\n",
       "    </tr>\n",
       "  </tbody>\n",
       "</table>\n",
       "</div>"
      ],
      "text/plain": [
       "     Glucose  Insulin   BMI  Pedigree  Age  Outcome\n",
       "75         0        0  24.7     0.140   22        0\n",
       "182        0       23  27.7     0.299   21        0\n",
       "342        0        0  32.0     0.389   22        0\n",
       "349        0        0  41.0     0.346   37        1\n",
       "502        0        0  39.0     0.727   41        1"
      ]
     },
     "execution_count": 12,
     "metadata": {},
     "output_type": "execute_result"
    }
   ],
   "source": [
    "data[data['Glucose'] == 0]"
   ]
  },
  {
   "cell_type": "code",
   "execution_count": 13,
   "metadata": {
    "execution": {
     "iopub.execute_input": "2022-01-23T16:01:05.717013Z",
     "iopub.status.busy": "2022-01-23T16:01:05.716050Z",
     "iopub.status.idle": "2022-01-23T16:01:05.730969Z",
     "shell.execute_reply": "2022-01-23T16:01:05.731516Z",
     "shell.execute_reply.started": "2022-01-23T15:59:47.610052Z"
    },
    "papermill": {
     "duration": 0.044086,
     "end_time": "2022-01-23T16:01:05.731722",
     "exception": false,
     "start_time": "2022-01-23T16:01:05.687636",
     "status": "completed"
    },
    "tags": []
   },
   "outputs": [
    {
     "data": {
      "text/html": [
       "<div>\n",
       "<style scoped>\n",
       "    .dataframe tbody tr th:only-of-type {\n",
       "        vertical-align: middle;\n",
       "    }\n",
       "\n",
       "    .dataframe tbody tr th {\n",
       "        vertical-align: top;\n",
       "    }\n",
       "\n",
       "    .dataframe thead th {\n",
       "        text-align: right;\n",
       "    }\n",
       "</style>\n",
       "<table border=\"1\" class=\"dataframe\">\n",
       "  <thead>\n",
       "    <tr style=\"text-align: right;\">\n",
       "      <th></th>\n",
       "      <th>Glucose</th>\n",
       "      <th>Insulin</th>\n",
       "      <th>BMI</th>\n",
       "      <th>Pedigree</th>\n",
       "      <th>Age</th>\n",
       "      <th>Outcome</th>\n",
       "    </tr>\n",
       "  </thead>\n",
       "  <tbody>\n",
       "    <tr>\n",
       "      <th>9</th>\n",
       "      <td>125</td>\n",
       "      <td>0</td>\n",
       "      <td>0.0</td>\n",
       "      <td>0.232</td>\n",
       "      <td>54</td>\n",
       "      <td>1</td>\n",
       "    </tr>\n",
       "    <tr>\n",
       "      <th>49</th>\n",
       "      <td>105</td>\n",
       "      <td>0</td>\n",
       "      <td>0.0</td>\n",
       "      <td>0.305</td>\n",
       "      <td>24</td>\n",
       "      <td>0</td>\n",
       "    </tr>\n",
       "    <tr>\n",
       "      <th>60</th>\n",
       "      <td>84</td>\n",
       "      <td>0</td>\n",
       "      <td>0.0</td>\n",
       "      <td>0.304</td>\n",
       "      <td>21</td>\n",
       "      <td>0</td>\n",
       "    </tr>\n",
       "    <tr>\n",
       "      <th>81</th>\n",
       "      <td>74</td>\n",
       "      <td>0</td>\n",
       "      <td>0.0</td>\n",
       "      <td>0.102</td>\n",
       "      <td>22</td>\n",
       "      <td>0</td>\n",
       "    </tr>\n",
       "    <tr>\n",
       "      <th>145</th>\n",
       "      <td>102</td>\n",
       "      <td>0</td>\n",
       "      <td>0.0</td>\n",
       "      <td>0.572</td>\n",
       "      <td>21</td>\n",
       "      <td>0</td>\n",
       "    </tr>\n",
       "    <tr>\n",
       "      <th>371</th>\n",
       "      <td>118</td>\n",
       "      <td>89</td>\n",
       "      <td>0.0</td>\n",
       "      <td>1.731</td>\n",
       "      <td>21</td>\n",
       "      <td>0</td>\n",
       "    </tr>\n",
       "    <tr>\n",
       "      <th>426</th>\n",
       "      <td>94</td>\n",
       "      <td>0</td>\n",
       "      <td>0.0</td>\n",
       "      <td>0.256</td>\n",
       "      <td>25</td>\n",
       "      <td>0</td>\n",
       "    </tr>\n",
       "    <tr>\n",
       "      <th>494</th>\n",
       "      <td>80</td>\n",
       "      <td>0</td>\n",
       "      <td>0.0</td>\n",
       "      <td>0.174</td>\n",
       "      <td>22</td>\n",
       "      <td>0</td>\n",
       "    </tr>\n",
       "    <tr>\n",
       "      <th>522</th>\n",
       "      <td>114</td>\n",
       "      <td>0</td>\n",
       "      <td>0.0</td>\n",
       "      <td>0.189</td>\n",
       "      <td>26</td>\n",
       "      <td>0</td>\n",
       "    </tr>\n",
       "    <tr>\n",
       "      <th>684</th>\n",
       "      <td>136</td>\n",
       "      <td>0</td>\n",
       "      <td>0.0</td>\n",
       "      <td>0.640</td>\n",
       "      <td>69</td>\n",
       "      <td>0</td>\n",
       "    </tr>\n",
       "    <tr>\n",
       "      <th>706</th>\n",
       "      <td>115</td>\n",
       "      <td>0</td>\n",
       "      <td>0.0</td>\n",
       "      <td>0.261</td>\n",
       "      <td>30</td>\n",
       "      <td>1</td>\n",
       "    </tr>\n",
       "  </tbody>\n",
       "</table>\n",
       "</div>"
      ],
      "text/plain": [
       "     Glucose  Insulin  BMI  Pedigree  Age  Outcome\n",
       "9        125        0  0.0     0.232   54        1\n",
       "49       105        0  0.0     0.305   24        0\n",
       "60        84        0  0.0     0.304   21        0\n",
       "81        74        0  0.0     0.102   22        0\n",
       "145      102        0  0.0     0.572   21        0\n",
       "371      118       89  0.0     1.731   21        0\n",
       "426       94        0  0.0     0.256   25        0\n",
       "494       80        0  0.0     0.174   22        0\n",
       "522      114        0  0.0     0.189   26        0\n",
       "684      136        0  0.0     0.640   69        0\n",
       "706      115        0  0.0     0.261   30        1"
      ]
     },
     "execution_count": 13,
     "metadata": {},
     "output_type": "execute_result"
    }
   ],
   "source": [
    "data[data['BMI'] == 0]"
   ]
  },
  {
   "cell_type": "code",
   "execution_count": 14,
   "metadata": {
    "execution": {
     "iopub.execute_input": "2022-01-23T16:01:05.788705Z",
     "iopub.status.busy": "2022-01-23T16:01:05.787648Z",
     "iopub.status.idle": "2022-01-23T16:01:05.811391Z",
     "shell.execute_reply": "2022-01-23T16:01:05.811886Z",
     "shell.execute_reply.started": "2022-01-23T15:59:47.627677Z"
    },
    "papermill": {
     "duration": 0.054407,
     "end_time": "2022-01-23T16:01:05.812094",
     "exception": false,
     "start_time": "2022-01-23T16:01:05.757687",
     "status": "completed"
    },
    "tags": []
   },
   "outputs": [],
   "source": [
    "imputer = SimpleImputer(missing_values=0.0, strategy='median')\n",
    "imputer.fit(X_train[['Glucose','BMI']])\n",
    "X_train[['Glucose','BMI']] = imputer.transform(X_train[['Glucose','BMI']])\n",
    "X_test[['Glucose','BMI']] = imputer.transform(X_test[['Glucose','BMI']])"
   ]
  },
  {
   "cell_type": "markdown",
   "metadata": {
    "papermill": {
     "duration": 0.026086,
     "end_time": "2022-01-23T16:01:05.864175",
     "exception": false,
     "start_time": "2022-01-23T16:01:05.838089",
     "status": "completed"
    },
    "tags": []
   },
   "source": [
    "Сlass balancing"
   ]
  },
  {
   "cell_type": "code",
   "execution_count": 15,
   "metadata": {
    "execution": {
     "iopub.execute_input": "2022-01-23T16:01:05.920811Z",
     "iopub.status.busy": "2022-01-23T16:01:05.919732Z",
     "iopub.status.idle": "2022-01-23T16:01:06.089988Z",
     "shell.execute_reply": "2022-01-23T16:01:06.089408Z",
     "shell.execute_reply.started": "2022-01-23T15:59:47.647174Z"
    },
    "papermill": {
     "duration": 0.20013,
     "end_time": "2022-01-23T16:01:06.090173",
     "exception": false,
     "start_time": "2022-01-23T16:01:05.890043",
     "status": "completed"
    },
    "tags": []
   },
   "outputs": [
    {
     "data": {
      "text/plain": [
       "Text(0, 0.5, 'Proportion')"
      ]
     },
     "execution_count": 15,
     "metadata": {},
     "output_type": "execute_result"
    },
    {
     "data": {
      "image/png": "[encoded data removed]",
      "text/plain": [
       "<Figure size 432x288 with 1 Axes>"
      ]
     },
     "metadata": {
      "needs_background": "light"
     },
     "output_type": "display_data"
    }
   ],
   "source": [
    "y_train.value_counts(normalize=True).plot.bar(color=['tab:blue', 'tab:red'])\n",
    "plt.grid(axis='y')\n",
    "plt.title(target_feature)\n",
    "plt.xlabel('Class')\n",
    "plt.ylabel('Proportion')"
   ]
  },
  {
   "cell_type": "code",
   "execution_count": 24,
   "metadata": {
    "execution": {
     "iopub.execute_input": "2022-01-23T16:01:06.224051Z",
     "iopub.status.busy": "2022-01-23T16:01:06.223038Z",
     "iopub.status.idle": "2022-01-23T16:01:06.386100Z",
     "shell.execute_reply": "2022-01-23T16:01:06.386585Z",
     "shell.execute_reply.started": "2022-01-23T15:59:47.816687Z"
    },
    "papermill": {
     "duration": 0.194751,
     "end_time": "2022-01-23T16:01:06.386794",
     "exception": false,
     "start_time": "2022-01-23T16:01:06.192043",
     "status": "completed"
    },
    "tags": []
   },
   "outputs": [
    {
     "data": {
      "text/plain": [
       "Text(0, 0.5, 'Proportion')"
      ]
     },
     "execution_count": 24,
     "metadata": {},
     "output_type": "execute_result"
    },
    {
     "data": {
      "image/png": "[encoded data removed]",
      "text/plain": [
       "<Figure size 432x288 with 1 Axes>"
      ]
     },
     "metadata": {
      "needs_background": "light"
     },
     "output_type": "display_data"
    }
   ],
   "source": [
    "y_train.value_counts(normalize=True).plot.bar(color=['tab:blue', 'tab:red'])\n",
    "plt.grid(axis='y')\n",
    "plt.title(target_feature)\n",
    "plt.xlabel('Class')\n",
    "plt.ylabel('Proportion')"
   ]
  },
  {
   "cell_type": "markdown",
   "metadata": {
    "papermill": {
     "duration": 0.027653,
     "end_time": "2022-01-23T16:01:06.442374",
     "exception": false,
     "start_time": "2022-01-23T16:01:06.414721",
     "status": "completed"
    },
    "tags": []
   },
   "source": [
    "Correlation matrix"
   ]
  },
  {
   "cell_type": "code",
   "execution_count": 25,
   "metadata": {
    "execution": {
     "iopub.execute_input": "2022-01-23T16:01:06.502905Z",
     "iopub.status.busy": "2022-01-23T16:01:06.501862Z",
     "iopub.status.idle": "2022-01-23T16:01:06.589964Z",
     "shell.execute_reply": "2022-01-23T16:01:06.590484Z",
     "shell.execute_reply.started": "2022-01-23T15:59:48.020561Z"
    },
    "papermill": {
     "duration": 0.120336,
     "end_time": "2022-01-23T16:01:06.590694",
     "exception": false,
     "start_time": "2022-01-23T16:01:06.470358",
     "status": "completed"
    },
    "tags": []
   },
   "outputs": [
    {
     "data": {
      "text/html": [
       "<style type=\"text/css\">\n",
       "#T_9b7d9_row0_col0, #T_9b7d9_row1_col1, #T_9b7d9_row2_col2, #T_9b7d9_row3_col3, #T_9b7d9_row4_col4 {\n",
       "  background-color: #b40426;\n",
       "  color: #f1f1f1;\n",
       "}\n",
       "#T_9b7d9_row0_col1, #T_9b7d9_row0_col3, #T_9b7d9_row0_col4, #T_9b7d9_row1_col0, #T_9b7d9_row4_col2 {\n",
       "  background-color: #3b4cc0;\n",
       "  color: #f1f1f1;\n",
       "}\n",
       "#T_9b7d9_row0_col2 {\n",
       "  background-color: #6687ed;\n",
       "  color: #f1f1f1;\n",
       "}\n",
       "#T_9b7d9_row1_col2 {\n",
       "  background-color: #7da0f9;\n",
       "  color: #f1f1f1;\n",
       "}\n",
       "#T_9b7d9_row1_col3 {\n",
       "  background-color: #7699f6;\n",
       "  color: #f1f1f1;\n",
       "}\n",
       "#T_9b7d9_row1_col4 {\n",
       "  background-color: #799cf8;\n",
       "  color: #f1f1f1;\n",
       "}\n",
       "#T_9b7d9_row2_col0 {\n",
       "  background-color: #98b9ff;\n",
       "  color: #000000;\n",
       "}\n",
       "#T_9b7d9_row2_col1 {\n",
       "  background-color: #abc8fd;\n",
       "  color: #000000;\n",
       "}\n",
       "#T_9b7d9_row2_col3 {\n",
       "  background-color: #81a4fb;\n",
       "  color: #f1f1f1;\n",
       "}\n",
       "#T_9b7d9_row2_col4 {\n",
       "  background-color: #6384eb;\n",
       "  color: #f1f1f1;\n",
       "}\n",
       "#T_9b7d9_row3_col0 {\n",
       "  background-color: #445acc;\n",
       "  color: #f1f1f1;\n",
       "}\n",
       "#T_9b7d9_row3_col1 {\n",
       "  background-color: #80a3fa;\n",
       "  color: #f1f1f1;\n",
       "}\n",
       "#T_9b7d9_row3_col2 {\n",
       "  background-color: #5673e0;\n",
       "  color: #f1f1f1;\n",
       "}\n",
       "#T_9b7d9_row3_col4 {\n",
       "  background-color: #6a8bef;\n",
       "  color: #f1f1f1;\n",
       "}\n",
       "#T_9b7d9_row4_col0 {\n",
       "  background-color: #485fd1;\n",
       "  color: #f1f1f1;\n",
       "}\n",
       "#T_9b7d9_row4_col1 {\n",
       "  background-color: #85a8fc;\n",
       "  color: #f1f1f1;\n",
       "}\n",
       "#T_9b7d9_row4_col3 {\n",
       "  background-color: #6c8ff1;\n",
       "  color: #f1f1f1;\n",
       "}\n",
       "</style>\n",
       "<table id=\"T_9b7d9\">\n",
       "  <thead>\n",
       "    <tr>\n",
       "      <th class=\"blank level0\" >&nbsp;</th>\n",
       "      <th id=\"T_9b7d9_level0_col0\" class=\"col_heading level0 col0\" >Age</th>\n",
       "      <th id=\"T_9b7d9_level0_col1\" class=\"col_heading level0 col1\" >Insulin</th>\n",
       "      <th id=\"T_9b7d9_level0_col2\" class=\"col_heading level0 col2\" >Glucose</th>\n",
       "      <th id=\"T_9b7d9_level0_col3\" class=\"col_heading level0 col3\" >BMI</th>\n",
       "      <th id=\"T_9b7d9_level0_col4\" class=\"col_heading level0 col4\" >Pedigree</th>\n",
       "    </tr>\n",
       "  </thead>\n",
       "  <tbody>\n",
       "    <tr>\n",
       "      <th id=\"T_9b7d9_level0_row0\" class=\"row_heading level0 row0\" >Age</th>\n",
       "      <td id=\"T_9b7d9_row0_col0\" class=\"data row0 col0\" >1.000000</td>\n",
       "      <td id=\"T_9b7d9_row0_col1\" class=\"data row0 col1\" >-0.026828</td>\n",
       "      <td id=\"T_9b7d9_row0_col2\" class=\"data row0 col2\" >0.263797</td>\n",
       "      <td id=\"T_9b7d9_row0_col3\" class=\"data row0 col3\" >0.006558</td>\n",
       "      <td id=\"T_9b7d9_row0_col4\" class=\"data row0 col4\" >0.018448</td>\n",
       "    </tr>\n",
       "    <tr>\n",
       "      <th id=\"T_9b7d9_level0_row1\" class=\"row_heading level0 row1\" >Insulin</th>\n",
       "      <td id=\"T_9b7d9_row1_col0\" class=\"data row1 col0\" >-0.026828</td>\n",
       "      <td id=\"T_9b7d9_row1_col1\" class=\"data row1 col1\" >1.000000</td>\n",
       "      <td id=\"T_9b7d9_row1_col2\" class=\"data row1 col2\" >0.321751</td>\n",
       "      <td id=\"T_9b7d9_row1_col3\" class=\"data row1 col3\" >0.192143</td>\n",
       "      <td id=\"T_9b7d9_row1_col4\" class=\"data row1 col4\" >0.207136</td>\n",
       "    </tr>\n",
       "    <tr>\n",
       "      <th id=\"T_9b7d9_level0_row2\" class=\"row_heading level0 row2\" >Glucose</th>\n",
       "      <td id=\"T_9b7d9_row2_col0\" class=\"data row2 col0\" >0.263797</td>\n",
       "      <td id=\"T_9b7d9_row2_col1\" class=\"data row2 col1\" >0.321751</td>\n",
       "      <td id=\"T_9b7d9_row2_col2\" class=\"data row2 col2\" >1.000000</td>\n",
       "      <td id=\"T_9b7d9_row2_col3\" class=\"data row2 col3\" >0.223262</td>\n",
       "      <td id=\"T_9b7d9_row2_col4\" class=\"data row2 col4\" >0.145176</td>\n",
       "    </tr>\n",
       "    <tr>\n",
       "      <th id=\"T_9b7d9_level0_row3\" class=\"row_heading level0 row3\" >BMI</th>\n",
       "      <td id=\"T_9b7d9_row3_col0\" class=\"data row3 col0\" >0.006558</td>\n",
       "      <td id=\"T_9b7d9_row3_col1\" class=\"data row3 col1\" >0.192143</td>\n",
       "      <td id=\"T_9b7d9_row3_col2\" class=\"data row3 col2\" >0.223262</td>\n",
       "      <td id=\"T_9b7d9_row3_col3\" class=\"data row3 col3\" >1.000000</td>\n",
       "      <td id=\"T_9b7d9_row3_col4\" class=\"data row3 col4\" >0.165553</td>\n",
       "    </tr>\n",
       "    <tr>\n",
       "      <th id=\"T_9b7d9_level0_row4\" class=\"row_heading level0 row4\" >Pedigree</th>\n",
       "      <td id=\"T_9b7d9_row4_col0\" class=\"data row4 col0\" >0.018448</td>\n",
       "      <td id=\"T_9b7d9_row4_col1\" class=\"data row4 col1\" >0.207136</td>\n",
       "      <td id=\"T_9b7d9_row4_col2\" class=\"data row4 col2\" >0.145176</td>\n",
       "      <td id=\"T_9b7d9_row4_col3\" class=\"data row4 col3\" >0.165553</td>\n",
       "      <td id=\"T_9b7d9_row4_col4\" class=\"data row4 col4\" >1.000000</td>\n",
       "    </tr>\n",
       "  </tbody>\n",
       "</table>\n"
      ],
      "text/plain": [
       "<pandas.io.formats.style.Styler at 0x20e0d77f910>"
      ]
     },
     "execution_count": 25,
     "metadata": {},
     "output_type": "execute_result"
    }
   ],
   "source": [
    "X_train[num_features].corr().style.background_gradient(cmap='coolwarm')"
   ]
  },
  {
   "cell_type": "markdown",
   "metadata": {
    "papermill": {
     "duration": 0.0281,
     "end_time": "2022-01-23T16:01:06.647285",
     "exception": false,
     "start_time": "2022-01-23T16:01:06.619185",
     "status": "completed"
    },
    "tags": []
   },
   "source": [
    "Scaling"
   ]
  },
  {
   "cell_type": "code",
   "execution_count": 28,
   "metadata": {
    "execution": {
     "iopub.execute_input": "2022-01-23T16:01:06.708937Z",
     "iopub.status.busy": "2022-01-23T16:01:06.707900Z",
     "iopub.status.idle": "2022-01-23T16:01:06.719493Z",
     "shell.execute_reply": "2022-01-23T16:01:06.719983Z",
     "shell.execute_reply.started": "2022-01-23T15:59:48.044313Z"
    },
    "papermill": {
     "duration": 0.044296,
     "end_time": "2022-01-23T16:01:06.720221",
     "exception": false,
     "start_time": "2022-01-23T16:01:06.675925",
     "status": "completed"
    },
    "tags": []
   },
   "outputs": [
    {
     "name": "stderr",
     "output_type": "stream",
     "text": [
      "C:\\Python\\Python39\\lib\\site-packages\\sklearn\\base.py:443: UserWarning: X has feature names, but StandardScaler was fitted without feature names\n",
      "  warnings.warn(\n"
     ]
    }
   ],
   "source": [
    "scaler = StandardScaler()\n",
    "X_train = scaler.fit_transform(X_train)\n",
    "X_train = pd.DataFrame(X_train, columns=num_features)\n",
    "X_test = scaler.transform(X_test)\n",
    "X_test = pd.DataFrame(X_test, columns=num_features)"
   ]
  },
  {
   "cell_type": "markdown",
   "metadata": {
    "papermill": {
     "duration": 0.028181,
     "end_time": "2022-01-23T16:01:06.776884",
     "exception": false,
     "start_time": "2022-01-23T16:01:06.748703",
     "status": "completed"
    },
    "tags": []
   },
   "source": [
    "### Training"
   ]
  },
  {
   "cell_type": "code",
   "execution_count": 29,
   "metadata": {
    "execution": {
     "iopub.execute_input": "2022-01-23T16:01:06.838721Z",
     "iopub.status.busy": "2022-01-23T16:01:06.837663Z",
     "iopub.status.idle": "2022-01-23T16:01:06.850698Z",
     "shell.execute_reply": "2022-01-23T16:01:06.851203Z",
     "shell.execute_reply.started": "2022-01-23T15:59:48.060328Z"
    },
    "papermill": {
     "duration": 0.045796,
     "end_time": "2022-01-23T16:01:06.851409",
     "exception": false,
     "start_time": "2022-01-23T16:01:06.805613",
     "status": "completed"
    },
    "tags": []
   },
   "outputs": [],
   "source": [
    "def print_metrics(y_true, y_pred):\n",
    "    print('Metrics:')\n",
    "    print(f'f1_score = {f1_score(y_true=y_true, y_pred=y_pred).round(3)}')\n",
    "    print(f'recall_score = {recall_score(y_true=y_true, y_pred=y_pred).round(3)}')\n",
    "    print(f'precision_score = {precision_score(y_true=y_true, y_pred=y_pred).round(3)}')\n",
    "    \n",
    "def print_confusion_matrix(y_true, y_pred):\n",
    "    sns.heatmap(confusion_matrix(y_true=y_true, y_pred=y_pred), annot=True, cmap='coolwarm', cbar=False)\n",
    "    plt.title('Confusion matrix')\n",
    "    plt.xlabel('Predict')\n",
    "    plt.ylabel('Actual')\n",
    "    plt.show()\n",
    "    \n",
    "def print_roc_auc(y_true, y_pred_prob):\n",
    "    fpr, tpr, thresholds = roc_curve(y_true, y_pred_prob)\n",
    "    auc = roc_auc_score(y_true, y_pred_prob)\n",
    "        \n",
    "    plt.plot(fpr, tpr)\n",
    "    plt.xlabel('False Positive Rate')\n",
    "    plt.ylabel('True Positive Rate')\n",
    "    plt.title(f'ROC AUC: {auc.round(3)}')\n",
    "    plt.show()\n",
    "    \n",
    "def print_params(model):\n",
    "    print('Model parameters:')\n",
    "    print(f'K neighbors = {model.n_neighbors}')\n",
    "    print(f'Power = {model.p}')\n",
    "    \n",
    "def start_train(model, X_train, y_train, X_test, y_test):\n",
    "    model.fit(X_train, y_train)\n",
    "    y_prep = model.predict(X_test)\n",
    "    y_pred_prob = model.predict_proba(X_test)[:,1]\n",
    "    \n",
    "    print_params(model=model)\n",
    "    print_metrics(y_true=y_test, y_pred=y_prep)\n",
    "    print_confusion_matrix(y_true=y_test, y_pred=y_prep)\n",
    "    print_roc_auc(y_true=y_test, y_pred_prob=y_pred_prob) \n",
    "    \n",
    "    "
   ]
  },
  {
   "cell_type": "code",
   "execution_count": 31,
   "metadata": {
    "execution": {
     "iopub.execute_input": "2022-01-23T16:01:06.918886Z",
     "iopub.status.busy": "2022-01-23T16:01:06.918202Z",
     "iopub.status.idle": "2022-01-23T16:01:07.175604Z",
     "shell.execute_reply": "2022-01-23T16:01:07.176071Z",
     "shell.execute_reply.started": "2022-01-23T15:59:48.075432Z"
    },
    "papermill": {
     "duration": 0.294515,
     "end_time": "2022-01-23T16:01:07.176293",
     "exception": false,
     "start_time": "2022-01-23T16:01:06.881778",
     "status": "completed"
    },
    "tags": []
   },
   "outputs": [
    {
     "name": "stdout",
     "output_type": "stream",
     "text": [
      "Model parameters:\n",
      "K neighbors = 5\n",
      "Power = 2\n",
      "Metrics:\n",
      "f1_score = 0.519\n",
      "recall_score = 1.0\n",
      "precision_score = 0.351\n"
     ]
    },
    {
     "data": {
      "image/png": "[encoded data removed]",
      "text/plain": [
       "<Figure size 432x288 with 1 Axes>"
      ]
     },
     "metadata": {
      "needs_background": "light"
     },
     "output_type": "display_data"
    },
    {
     "data": {
      "image/png": "[encoded data removed]",
      "text/plain": [
       "<Figure size 432x288 with 1 Axes>"
      ]
     },
     "metadata": {
      "needs_background": "light"
     },
     "output_type": "display_data"
    }
   ],
   "source": [
    "start_train(model=KNeighborsClassifier(), X_train=X_train, y_train=y_train, X_test=X_test, y_test=y_test)"
   ]
  },
  {
   "cell_type": "code",
   "execution_count": null,
   "metadata": {},
   "outputs": [],
   "source": []
  }
 ],
 "metadata": {
  "kernelspec": {
   "display_name": "Python 3",
   "language": "python",
   "name": "python3"
  },
  "language_info": {
   "codemirror_mode": {
    "name": "ipython",
    "version": 3
   },
   "file_extension": ".py",
   "mimetype": "text/x-python",
   "name": "python",
   "nbconvert_exporter": "python",
   "pygments_lexer": "ipython3",
   "version": "3.8.5"
  },
  "papermill": {
   "default_parameters": {},
   "duration": 29.619798,
   "end_time": "2022-01-23T16:01:20.578687",
   "environment_variables": {},
   "exception": null,
   "input_path": "__notebook__.ipynb",
   "output_path": "__notebook__.ipynb",
   "parameters": {},
   "start_time": "2022-01-23T16:00:50.958889",
   "version": "2.3.3"
  }
 },
 "nbformat": 4,
 "nbformat_minor": 5
}
