{
 "cells": [
  {
   "cell_type": "markdown",
   "metadata": {},
   "source": [
    "## 41134\n",
    "# Pushkar Jain"
   ]
  },
  {
   "cell_type": "markdown",
   "metadata": {
    "papermill": {
     "duration": 0.023462,
     "end_time": "2022-01-23T16:01:01.829644",
     "exception": false,
     "start_time": "2022-01-23T16:01:01.806182",
     "status": "completed"
    },
    "tags": []
   },
   "source": [
    "# Diabetes predication system with KNN algorithm"
   ]
  },
  {
   "cell_type": "code",
   "execution_count": null,
   "metadata": {
    "_cell_guid": "b1076dfc-b9ad-4769-8c92-a6c4dae69d19",
    "_uuid": "8f2839f25d086af736a60e9eeb907d3b93b6e0e5",
    "execution": {
     "iopub.execute_input": "2022-01-23T16:01:01.892613Z",
     "iopub.status.busy": "2022-01-23T16:01:01.891697Z",
     "iopub.status.idle": "2022-01-23T16:01:03.506739Z",
     "shell.execute_reply": "2022-01-23T16:01:03.505987Z",
     "shell.execute_reply.started": "2022-01-23T15:59:46.110965Z"
    },
    "papermill": {
     "duration": 1.652146,
     "end_time": "2022-01-23T16:01:03.506929",
     "exception": false,
     "start_time": "2022-01-23T16:01:01.854783",
     "status": "completed"
    },
    "tags": []
   },
   "outputs": [],
   "source": [
    "import numpy as np\n",
    "import pandas as pd\n",
    "import matplotlib.pyplot as plt\n",
    "import seaborn as sns\n",
    "from sklearn.impute import SimpleImputer\n",
    "from sklearn.preprocessing import StandardScaler\n",
    "from sklearn.neighbors import KNeighborsClassifier\n",
    "from sklearn.model_selection import train_test_split, GridSearchCV\n",
    "from sklearn.metrics import confusion_matrix, roc_curve, roc_auc_score, f1_score, recall_score, precision_score"
   ]
  },
  {
   "cell_type": "markdown",
   "metadata": {
    "papermill": {
     "duration": 0.021318,
     "end_time": "2022-01-23T16:01:03.552332",
     "exception": false,
     "start_time": "2022-01-23T16:01:03.531014",
     "status": "completed"
    },
    "tags": []
   },
   "source": [
    "### Load"
   ]
  },
  {
   "cell_type": "code",
   "execution_count": null,
   "metadata": {
    "execution": {
     "iopub.execute_input": "2022-01-23T16:01:03.602292Z",
     "iopub.status.busy": "2022-01-23T16:01:03.601555Z",
     "iopub.status.idle": "2022-01-23T16:01:03.622658Z",
     "shell.execute_reply": "2022-01-23T16:01:03.623194Z",
     "shell.execute_reply.started": "2022-01-23T15:59:46.119419Z"
    },
    "papermill": {
     "duration": 0.049743,
     "end_time": "2022-01-23T16:01:03.623416",
     "exception": false,
     "start_time": "2022-01-23T16:01:03.573673",
     "status": "completed"
    },
    "tags": []
   },
   "outputs": [],
   "source": [
    "data = pd.read_csv('diabetes.csv')"
   ]
  },
  {
   "cell_type": "markdown",
   "metadata": {
    "papermill": {
     "duration": 0.021569,
     "end_time": "2022-01-23T16:01:03.667618",
     "exception": false,
     "start_time": "2022-01-23T16:01:03.646049",
     "status": "completed"
    },
    "tags": []
   },
   "source": [
    "### Preprocessing"
   ]
  },
  {
   "cell_type": "code",
   "execution_count": null,
   "metadata": {
    "execution": {
     "iopub.execute_input": "2022-01-23T16:01:03.716876Z",
     "iopub.status.busy": "2022-01-23T16:01:03.715813Z",
     "iopub.status.idle": "2022-01-23T16:01:03.729969Z",
     "shell.execute_reply": "2022-01-23T16:01:03.730492Z",
     "shell.execute_reply.started": "2022-01-23T15:59:46.143383Z"
    },
    "papermill": {
     "duration": 0.040302,
     "end_time": "2022-01-23T16:01:03.730716",
     "exception": false,
     "start_time": "2022-01-23T16:01:03.690414",
     "status": "completed"
    },
    "tags": []
   },
   "outputs": [],
   "source": [
    "data.drop(['Pregnancies', 'BloodPressure', 'SkinThickness'], axis=1, inplace=True)"
   ]
  },
  {
   "cell_type": "code",
   "execution_count": null,
   "metadata": {
    "execution": {
     "iopub.execute_input": "2022-01-23T16:01:03.780669Z",
     "iopub.status.busy": "2022-01-23T16:01:03.779973Z",
     "iopub.status.idle": "2022-01-23T16:01:03.798071Z",
     "shell.execute_reply": "2022-01-23T16:01:03.798641Z",
     "shell.execute_reply.started": "2022-01-23T15:59:46.151460Z"
    },
    "papermill": {
     "duration": 0.046303,
     "end_time": "2022-01-23T16:01:03.798847",
     "exception": false,
     "start_time": "2022-01-23T16:01:03.752544",
     "status": "completed"
    },
    "tags": []
   },
   "outputs": [],
   "source": [
    "data.info()"
   ]
  },
  {
   "cell_type": "code",
   "execution_count": null,
   "metadata": {
    "execution": {
     "iopub.execute_input": "2022-01-23T16:01:03.848328Z",
     "iopub.status.busy": "2022-01-23T16:01:03.847652Z",
     "iopub.status.idle": "2022-01-23T16:01:03.868056Z",
     "shell.execute_reply": "2022-01-23T16:01:03.868569Z",
     "shell.execute_reply.started": "2022-01-23T15:59:46.176050Z"
    },
    "papermill": {
     "duration": 0.046277,
     "end_time": "2022-01-23T16:01:03.868750",
     "exception": false,
     "start_time": "2022-01-23T16:01:03.822473",
     "status": "completed"
    },
    "tags": []
   },
   "outputs": [],
   "source": [
    "data.head()"
   ]
  },
  {
   "cell_type": "code",
   "execution_count": null,
   "metadata": {
    "execution": {
     "iopub.execute_input": "2022-01-23T16:01:03.926252Z",
     "iopub.status.busy": "2022-01-23T16:01:03.925187Z",
     "iopub.status.idle": "2022-01-23T16:01:03.951900Z",
     "shell.execute_reply": "2022-01-23T16:01:03.952486Z",
     "shell.execute_reply.started": "2022-01-23T15:59:46.194637Z"
    },
    "papermill": {
     "duration": 0.059067,
     "end_time": "2022-01-23T16:01:03.952713",
     "exception": false,
     "start_time": "2022-01-23T16:01:03.893646",
     "status": "completed"
    },
    "tags": []
   },
   "outputs": [],
   "source": [
    "data.describe().T"
   ]
  },
  {
   "cell_type": "code",
   "execution_count": null,
   "metadata": {
    "execution": {
     "iopub.execute_input": "2022-01-23T16:01:04.003586Z",
     "iopub.status.busy": "2022-01-23T16:01:04.002567Z",
     "iopub.status.idle": "2022-01-23T16:01:05.373845Z",
     "shell.execute_reply": "2022-01-23T16:01:05.374326Z",
     "shell.execute_reply.started": "2022-01-23T15:59:46.233666Z"
    },
    "papermill": {
     "duration": 1.398746,
     "end_time": "2022-01-23T16:01:05.374539",
     "exception": false,
     "start_time": "2022-01-23T16:01:03.975793",
     "status": "completed"
    },
    "tags": []
   },
   "outputs": [],
   "source": [
    "hist = data.hist(figsize=(20,16))"
   ]
  },
  {
   "cell_type": "code",
   "execution_count": null,
   "metadata": {
    "execution": {
     "iopub.execute_input": "2022-01-23T16:01:05.428022Z",
     "iopub.status.busy": "2022-01-23T16:01:05.427049Z",
     "iopub.status.idle": "2022-01-23T16:01:05.431466Z",
     "shell.execute_reply": "2022-01-23T16:01:05.431969Z",
     "shell.execute_reply.started": "2022-01-23T15:59:47.563269Z"
    },
    "papermill": {
     "duration": 0.032996,
     "end_time": "2022-01-23T16:01:05.432184",
     "exception": false,
     "start_time": "2022-01-23T16:01:05.399188",
     "status": "completed"
    },
    "tags": []
   },
   "outputs": [],
   "source": [
    "target_feature = 'Outcome'\n",
    "num_features = list(set(data.columns) - set([target_feature]))"
   ]
  },
  {
   "cell_type": "markdown",
   "metadata": {
    "papermill": {
     "duration": 0.024334,
     "end_time": "2022-01-23T16:01:05.481438",
     "exception": false,
     "start_time": "2022-01-23T16:01:05.457104",
     "status": "completed"
    },
    "tags": []
   },
   "source": [
    "Train test split"
   ]
  },
  {
   "cell_type": "code",
   "execution_count": null,
   "metadata": {
    "execution": {
     "iopub.execute_input": "2022-01-23T16:01:05.534959Z",
     "iopub.status.busy": "2022-01-23T16:01:05.533953Z",
     "iopub.status.idle": "2022-01-23T16:01:05.546524Z",
     "shell.execute_reply": "2022-01-23T16:01:05.547065Z",
     "shell.execute_reply.started": "2022-01-23T15:59:47.569030Z"
    },
    "papermill": {
     "duration": 0.041276,
     "end_time": "2022-01-23T16:01:05.547295",
     "exception": false,
     "start_time": "2022-01-23T16:01:05.506019",
     "status": "completed"
    },
    "tags": []
   },
   "outputs": [],
   "source": [
    "X = data.drop(target_feature, axis=1)\n",
    "y = data[target_feature]\n",
    "X_train, X_test, y_train, y_test = train_test_split(X, y, test_size=0.2, random_state=0, stratify=y)"
   ]
  },
  {
   "cell_type": "markdown",
   "metadata": {
    "papermill": {
     "duration": 0.024212,
     "end_time": "2022-01-23T16:01:05.596435",
     "exception": false,
     "start_time": "2022-01-23T16:01:05.572223",
     "status": "completed"
    },
    "tags": []
   },
   "source": [
    "Outliers"
   ]
  },
  {
   "cell_type": "code",
   "execution_count": null,
   "metadata": {
    "execution": {
     "iopub.execute_input": "2022-01-23T16:01:05.649935Z",
     "iopub.status.busy": "2022-01-23T16:01:05.648976Z",
     "iopub.status.idle": "2022-01-23T16:01:05.661917Z",
     "shell.execute_reply": "2022-01-23T16:01:05.662439Z",
     "shell.execute_reply.started": "2022-01-23T15:59:47.588454Z"
    },
    "papermill": {
     "duration": 0.041555,
     "end_time": "2022-01-23T16:01:05.662655",
     "exception": false,
     "start_time": "2022-01-23T16:01:05.621100",
     "status": "completed"
    },
    "tags": []
   },
   "outputs": [],
   "source": [
    "data[data['Glucose'] == 0]"
   ]
  },
  {
   "cell_type": "code",
   "execution_count": null,
   "metadata": {
    "execution": {
     "iopub.execute_input": "2022-01-23T16:01:05.717013Z",
     "iopub.status.busy": "2022-01-23T16:01:05.716050Z",
     "iopub.status.idle": "2022-01-23T16:01:05.730969Z",
     "shell.execute_reply": "2022-01-23T16:01:05.731516Z",
     "shell.execute_reply.started": "2022-01-23T15:59:47.610052Z"
    },
    "papermill": {
     "duration": 0.044086,
     "end_time": "2022-01-23T16:01:05.731722",
     "exception": false,
     "start_time": "2022-01-23T16:01:05.687636",
     "status": "completed"
    },
    "tags": []
   },
   "outputs": [],
   "source": [
    "data[data['BMI'] == 0]"
   ]
  },
  {
   "cell_type": "code",
   "execution_count": null,
   "metadata": {
    "execution": {
     "iopub.execute_input": "2022-01-23T16:01:05.788705Z",
     "iopub.status.busy": "2022-01-23T16:01:05.787648Z",
     "iopub.status.idle": "2022-01-23T16:01:05.811391Z",
     "shell.execute_reply": "2022-01-23T16:01:05.811886Z",
     "shell.execute_reply.started": "2022-01-23T15:59:47.627677Z"
    },
    "papermill": {
     "duration": 0.054407,
     "end_time": "2022-01-23T16:01:05.812094",
     "exception": false,
     "start_time": "2022-01-23T16:01:05.757687",
     "status": "completed"
    },
    "tags": []
   },
   "outputs": [],
   "source": [
    "imputer = SimpleImputer(missing_values=0.0, strategy='median')\n",
    "imputer.fit(X_train[['Glucose','BMI']])\n",
    "X_train[['Glucose','BMI']] = imputer.transform(X_train[['Glucose','BMI']])\n",
    "X_test[['Glucose','BMI']] = imputer.transform(X_test[['Glucose','BMI']])"
   ]
  },
  {
   "cell_type": "markdown",
   "metadata": {
    "papermill": {
     "duration": 0.026086,
     "end_time": "2022-01-23T16:01:05.864175",
     "exception": false,
     "start_time": "2022-01-23T16:01:05.838089",
     "status": "completed"
    },
    "tags": []
   },
   "source": [
    "Сlass balancing"
   ]
  },
  {
   "cell_type": "code",
   "execution_count": null,
   "metadata": {
    "execution": {
     "iopub.execute_input": "2022-01-23T16:01:05.920811Z",
     "iopub.status.busy": "2022-01-23T16:01:05.919732Z",
     "iopub.status.idle": "2022-01-23T16:01:06.089988Z",
     "shell.execute_reply": "2022-01-23T16:01:06.089408Z",
     "shell.execute_reply.started": "2022-01-23T15:59:47.647174Z"
    },
    "papermill": {
     "duration": 0.20013,
     "end_time": "2022-01-23T16:01:06.090173",
     "exception": false,
     "start_time": "2022-01-23T16:01:05.890043",
     "status": "completed"
    },
    "tags": []
   },
   "outputs": [],
   "source": [
    "y_train.value_counts(normalize=True).plot.bar(color=['tab:blue', 'tab:red'])\n",
    "plt.grid(axis='y')\n",
    "plt.title(target_feature)\n",
    "plt.xlabel('Class')\n",
    "plt.ylabel('Proportion')"
   ]
  },
  {
   "cell_type": "code",
   "execution_count": null,
   "metadata": {
    "execution": {
     "iopub.execute_input": "2022-01-23T16:01:06.224051Z",
     "iopub.status.busy": "2022-01-23T16:01:06.223038Z",
     "iopub.status.idle": "2022-01-23T16:01:06.386100Z",
     "shell.execute_reply": "2022-01-23T16:01:06.386585Z",
     "shell.execute_reply.started": "2022-01-23T15:59:47.816687Z"
    },
    "papermill": {
     "duration": 0.194751,
     "end_time": "2022-01-23T16:01:06.386794",
     "exception": false,
     "start_time": "2022-01-23T16:01:06.192043",
     "status": "completed"
    },
    "tags": []
   },
   "outputs": [],
   "source": [
    "y_train.value_counts(normalize=True).plot.bar(color=['tab:blue', 'tab:red'])\n",
    "plt.grid(axis='y')\n",
    "plt.title(target_feature)\n",
    "plt.xlabel('Class')\n",
    "plt.ylabel('Proportion')"
   ]
  },
  {
   "cell_type": "markdown",
   "metadata": {
    "papermill": {
     "duration": 0.027653,
     "end_time": "2022-01-23T16:01:06.442374",
     "exception": false,
     "start_time": "2022-01-23T16:01:06.414721",
     "status": "completed"
    },
    "tags": []
   },
   "source": [
    "Correlation matrix"
   ]
  },
  {
   "cell_type": "code",
   "execution_count": null,
   "metadata": {
    "execution": {
     "iopub.execute_input": "2022-01-23T16:01:06.502905Z",
     "iopub.status.busy": "2022-01-23T16:01:06.501862Z",
     "iopub.status.idle": "2022-01-23T16:01:06.589964Z",
     "shell.execute_reply": "2022-01-23T16:01:06.590484Z",
     "shell.execute_reply.started": "2022-01-23T15:59:48.020561Z"
    },
    "papermill": {
     "duration": 0.120336,
     "end_time": "2022-01-23T16:01:06.590694",
     "exception": false,
     "start_time": "2022-01-23T16:01:06.470358",
     "status": "completed"
    },
    "tags": []
   },
   "outputs": [],
   "source": [
    "X_train[num_features].corr().style.background_gradient(cmap='coolwarm')"
   ]
  },
  {
   "cell_type": "markdown",
   "metadata": {
    "papermill": {
     "duration": 0.0281,
     "end_time": "2022-01-23T16:01:06.647285",
     "exception": false,
     "start_time": "2022-01-23T16:01:06.619185",
     "status": "completed"
    },
    "tags": []
   },
   "source": [
    "Scaling"
   ]
  },
  {
   "cell_type": "code",
   "execution_count": null,
   "metadata": {
    "execution": {
     "iopub.execute_input": "2022-01-23T16:01:06.708937Z",
     "iopub.status.busy": "2022-01-23T16:01:06.707900Z",
     "iopub.status.idle": "2022-01-23T16:01:06.719493Z",
     "shell.execute_reply": "2022-01-23T16:01:06.719983Z",
     "shell.execute_reply.started": "2022-01-23T15:59:48.044313Z"
    },
    "papermill": {
     "duration": 0.044296,
     "end_time": "2022-01-23T16:01:06.720221",
     "exception": false,
     "start_time": "2022-01-23T16:01:06.675925",
     "status": "completed"
    },
    "tags": []
   },
   "outputs": [],
   "source": [
    "scaler = StandardScaler()\n",
    "X_train = scaler.fit_transform(X_train)\n",
    "X_train = pd.DataFrame(X_train, columns=num_features)\n",
    "X_test = scaler.transform(X_test)\n",
    "X_test = pd.DataFrame(X_test, columns=num_features)"
   ]
  },
  {
   "cell_type": "markdown",
   "metadata": {
    "papermill": {
     "duration": 0.028181,
     "end_time": "2022-01-23T16:01:06.776884",
     "exception": false,
     "start_time": "2022-01-23T16:01:06.748703",
     "status": "completed"
    },
    "tags": []
   },
   "source": [
    "### Training"
   ]
  },
  {
   "cell_type": "code",
   "execution_count": null,
   "metadata": {
    "execution": {
     "iopub.execute_input": "2022-01-23T16:01:06.838721Z",
     "iopub.status.busy": "2022-01-23T16:01:06.837663Z",
     "iopub.status.idle": "2022-01-23T16:01:06.850698Z",
     "shell.execute_reply": "2022-01-23T16:01:06.851203Z",
     "shell.execute_reply.started": "2022-01-23T15:59:48.060328Z"
    },
    "papermill": {
     "duration": 0.045796,
     "end_time": "2022-01-23T16:01:06.851409",
     "exception": false,
     "start_time": "2022-01-23T16:01:06.805613",
     "status": "completed"
    },
    "tags": []
   },
   "outputs": [],
   "source": [
    "def print_metrics(y_true, y_pred):\n",
    "    print('Metrics:')\n",
    "    print(f'f1_score = {f1_score(y_true=y_true, y_pred=y_pred).round(3)}')\n",
    "    print(f'recall_score = {recall_score(y_true=y_true, y_pred=y_pred).round(3)}')\n",
    "    print(f'precision_score = {precision_score(y_true=y_true, y_pred=y_pred).round(3)}')\n",
    "    \n",
    "def print_confusion_matrix(y_true, y_pred):\n",
    "    sns.heatmap(confusion_matrix(y_true=y_true, y_pred=y_pred), annot=True, cmap='coolwarm', cbar=False)\n",
    "    plt.title('Confusion matrix')\n",
    "    plt.xlabel('Predict')\n",
    "    plt.ylabel('Actual')\n",
    "    plt.show()\n",
    "    \n",
    "def print_roc_auc(y_true, y_pred_prob):\n",
    "    fpr, tpr, thresholds = roc_curve(y_true, y_pred_prob)\n",
    "    auc = roc_auc_score(y_true, y_pred_prob)\n",
    "        \n",
    "    plt.plot(fpr, tpr)\n",
    "    plt.xlabel('False Positive Rate')\n",
    "    plt.ylabel('True Positive Rate')\n",
    "    plt.title(f'ROC AUC: {auc.round(3)}')\n",
    "    plt.show()\n",
    "    \n",
    "def print_params(model):\n",
    "    print('Model parameters:')\n",
    "    print(f'K neighbors = {model.n_neighbors}')\n",
    "    print(f'Power = {model.p}')\n",
    "    \n",
    "def start_train(model, X_train, y_train, X_test, y_test):\n",
    "    model.fit(X_train, y_train)\n",
    "    y_prep = model.predict(X_test)\n",
    "    y_pred_prob = model.predict_proba(X_test)[:,1]\n",
    "    \n",
    "    print_params(model=model)\n",
    "    print_metrics(y_true=y_test, y_pred=y_prep)\n",
    "    print_confusion_matrix(y_true=y_test, y_pred=y_prep)\n",
    "    print_roc_auc(y_true=y_test, y_pred_prob=y_pred_prob) \n",
    "    \n",
    "    "
   ]
  },
  {
   "cell_type": "code",
   "execution_count": null,
   "metadata": {
    "execution": {
     "iopub.execute_input": "2022-01-23T16:01:06.918886Z",
     "iopub.status.busy": "2022-01-23T16:01:06.918202Z",
     "iopub.status.idle": "2022-01-23T16:01:07.175604Z",
     "shell.execute_reply": "2022-01-23T16:01:07.176071Z",
     "shell.execute_reply.started": "2022-01-23T15:59:48.075432Z"
    },
    "papermill": {
     "duration": 0.294515,
     "end_time": "2022-01-23T16:01:07.176293",
     "exception": false,
     "start_time": "2022-01-23T16:01:06.881778",
     "status": "completed"
    },
    "tags": []
   },
   "outputs": [],
   "source": [
    "start_train(model=KNeighborsClassifier(), X_train=X_train, y_train=y_train, X_test=X_test, y_test=y_test)"
   ]
  },
  {
   "cell_type": "code",
   "execution_count": null,
   "metadata": {},
   "outputs": [],
   "source": []
  }
 ],
 "metadata": {
  "kernelspec": {
   "display_name": "Python 3",
   "language": "python",
   "name": "python3"
  },
  "language_info": {
   "codemirror_mode": {
    "name": "ipython",
    "version": 3
   },
   "file_extension": ".py",
   "mimetype": "text/x-python",
   "name": "python",
   "nbconvert_exporter": "python",
   "pygments_lexer": "ipython3",
   "version": "3.8.5"
  },
  "papermill": {
   "default_parameters": {},
   "duration": 29.619798,
   "end_time": "2022-01-23T16:01:20.578687",
   "environment_variables": {},
   "exception": null,
   "input_path": "__notebook__.ipynb",
   "output_path": "__notebook__.ipynb",
   "parameters": {},
   "start_time": "2022-01-23T16:00:50.958889",
   "version": "2.3.3"
  }
 },
 "nbformat": 4,
 "nbformat_minor": 5
}
